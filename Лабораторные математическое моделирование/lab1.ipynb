{
 "cells": [
  {
   "cell_type": "markdown",
   "metadata": {},
   "source": [
    "# Лабораторная работа 1\n",
    "# \"Построение матрицы расстояний между случайными точками\""
   ]
  },
  {
   "cell_type": "markdown",
   "metadata": {},
   "source": [
    "## Списки в Python"
   ]
  },
  {
   "cell_type": "markdown",
   "metadata": {},
   "source": [
    "### Создание списков"
   ]
  },
  {
   "cell_type": "markdown",
   "metadata": {},
   "source": [
    "Для работы со списками в Python не требуется особой библиотеки, что, конечно, радует. \n",
    "Для создания списка достаточно просто задать переменную для его хранения и присвоить ей содержимое списка, которое указывается в [].\n",
    "\n",
    "Списки могут содержать как целые числа"
   ]
  },
  {
   "cell_type": "code",
   "execution_count": 1,
   "metadata": {},
   "outputs": [
    {
     "name": "stdout",
     "output_type": "stream",
     "text": [
      "[1, 2, 3, 4, 5]\n"
     ]
    }
   ],
   "source": [
    "listInt = [1,2,3,4,5]\n",
    "print (listInt)"
   ]
  },
  {
   "cell_type": "code",
   "execution_count": 1,
   "metadata": {},
   "outputs": [
    {
     "name": "stdout",
     "output_type": "stream",
     "text": [
      "[23.5, 2.2, 0.5]\n"
     ]
    }
   ],
   "source": [
    "doub = [23.5,2.2,0.5]\n",
    "print (doub)"
   ]
  },
  {
   "cell_type": "markdown",
   "metadata": {},
   "source": [
    "rty"
   ]
  },
  {
   "cell_type": "markdown",
   "metadata": {},
   "source": [
    "#### так и вещественные"
   ]
  },
  {
   "cell_type": "code",
   "execution_count": 2,
   "metadata": {},
   "outputs": [
    {
     "name": "stdout",
     "output_type": "stream",
     "text": [
      "[1.5, 2.4, 3.8, 4.1, 5.9]\n"
     ]
    }
   ],
   "source": [
    "listFloat = [1.5,2.4,3.8,4.1,5.9]\n",
    "print (listFloat)"
   ]
  },
  {
   "cell_type": "markdown",
   "metadata": {},
   "source": [
    "#### да и вообще любой тип данных"
   ]
  },
  {
   "cell_type": "code",
   "execution_count": 3,
   "metadata": {},
   "outputs": [
    {
     "name": "stdout",
     "output_type": "stream",
     "text": [
      "['Python', 'List']\n"
     ]
    }
   ],
   "source": [
    "# список слов\n",
    "listWords = ['Python','List']\n",
    "print (listWords)"
   ]
  },
  {
   "cell_type": "code",
   "execution_count": 4,
   "metadata": {},
   "outputs": [
    {
     "name": "stdout",
     "output_type": "stream",
     "text": [
      "[False, True, False]\n"
     ]
    }
   ],
   "source": [
    "# список булевых значений\n",
    "listBool = [False, True, False]\n",
    "print (listBool)"
   ]
  },
  {
   "cell_type": "markdown",
   "metadata": {},
   "source": [
    "Также можно создать просто пустой список"
   ]
  },
  {
   "cell_type": "code",
   "execution_count": 5,
   "metadata": {},
   "outputs": [
    {
     "name": "stdout",
     "output_type": "stream",
     "text": [
      "[]\n"
     ]
    }
   ],
   "source": [
    "listEmpty = []\n",
    "print (listEmpty)"
   ]
  },
  {
   "cell_type": "markdown",
   "metadata": {},
   "source": [
    "### Операции со списками"
   ]
  },
  {
   "cell_type": "markdown",
   "metadata": {},
   "source": [
    "Для добавление элемента в конец списка используется метод append()"
   ]
  },
  {
   "cell_type": "code",
   "execution_count": 8,
   "metadata": {},
   "outputs": [
    {
     "name": "stdout",
     "output_type": "stream",
     "text": [
      "[2, 3]\n"
     ]
    }
   ],
   "source": [
    "listEmpty.append(3)\n",
    "print (listEmpty)"
   ]
  },
  {
   "cell_type": "markdown",
   "metadata": {},
   "source": [
    "Когда нужно добавить много элементов в окнец списка используется метод extend(), хотя им можно добавлять и по 1 элементу"
   ]
  },
  {
   "cell_type": "code",
   "execution_count": 9,
   "metadata": {},
   "outputs": [
    {
     "name": "stdout",
     "output_type": "stream",
     "text": [
      "[2, 3, 1, 2, 3, 4, 5]\n"
     ]
    }
   ],
   "source": [
    "listEmpty.extend(listInt)\n",
    "print (listEmpty)"
   ]
  },
  {
   "cell_type": "markdown",
   "metadata": {},
   "source": [
    "Очистить список можно методом clear()"
   ]
  },
  {
   "cell_type": "code",
   "execution_count": 10,
   "metadata": {},
   "outputs": [
    {
     "name": "stdout",
     "output_type": "stream",
     "text": [
      "[]\n"
     ]
    }
   ],
   "source": [
    "listEmpty.clear()\n",
    "print (listEmpty)"
   ]
  },
  {
   "cell_type": "markdown",
   "metadata": {},
   "source": [
    "Больше информации по работе со спиками есть здесь https://www.ibm.com/developerworks/ru/library/l-python_part_3/"
   ]
  },
  {
   "cell_type": "markdown",
   "metadata": {},
   "source": [
    "Списки универсальный инструмент в Python и их можно заполнять не только вручную, но и с помощью циклов.\n",
    "Сделаем список целых чисел от 0 до 9. Диапазон чисел задается методом range()"
   ]
  },
  {
   "cell_type": "code",
   "execution_count": 12,
   "metadata": {},
   "outputs": [
    {
     "name": "stdout",
     "output_type": "stream",
     "text": [
      "[1, 2, 3, 4, 5, 6, 7, 8, 9]\n"
     ]
    }
   ],
   "source": [
    "listRange= [i for i in range(1,10)]\n",
    "print (listRange)"
   ]
  },
  {
   "cell_type": "code",
   "execution_count": 13,
   "metadata": {},
   "outputs": [
    {
     "name": "stdout",
     "output_type": "stream",
     "text": [
      "[5, 5, 5, 5, 5, 5, 5, 5, 5, 5]\n"
     ]
    }
   ],
   "source": [
    "list5 = [5]*10\n",
    "print (list5)"
   ]
  },
  {
   "cell_type": "markdown",
   "metadata": {},
   "source": [
    "А сейчас сделаем список четных чисел от 0 до 9"
   ]
  },
  {
   "cell_type": "code",
   "execution_count": 2,
   "metadata": {},
   "outputs": [
    {
     "name": "stdout",
     "output_type": "stream",
     "text": [
      "[0, 2, 4, 6, 8]\n"
     ]
    }
   ],
   "source": [
    "listOdd = [i for i in range(10) if i%2 == 0]\n",
    "print (listOdd)"
   ]
  },
  {
   "cell_type": "code",
   "execution_count": 5,
   "metadata": {},
   "outputs": [
    {
     "name": "stdout",
     "output_type": "stream",
     "text": [
      "[1, 0, 1, 0, 1, 0, 1, 0, 1, 0]\n"
     ]
    }
   ],
   "source": [
    "listOddBul = [1 if i%2==0 else 0 for i in range(10)]\n",
    "print (listOddBul)"
   ]
  },
  {
   "cell_type": "markdown",
   "metadata": {},
   "source": [
    "##### Обращение к элементам списка"
   ]
  },
  {
   "cell_type": "markdown",
   "metadata": {},
   "source": [
    "Чтобы обратиться к элементу списка нужно указаить имя списка и в [] номер элемента.\n",
    "Обратимся к 0 элементу списка listOdd"
   ]
  },
  {
   "cell_type": "code",
   "execution_count": 16,
   "metadata": {},
   "outputs": [
    {
     "name": "stdout",
     "output_type": "stream",
     "text": [
      "2\n"
     ]
    }
   ],
   "source": [
    "print (listOdd[1])"
   ]
  },
  {
   "cell_type": "markdown",
   "metadata": {},
   "source": [
    "А теперь к последнему"
   ]
  },
  {
   "cell_type": "code",
   "execution_count": 3,
   "metadata": {},
   "outputs": [
    {
     "name": "stdout",
     "output_type": "stream",
     "text": [
      "8\n"
     ]
    }
   ],
   "source": [
    "print (listOdd[-1])"
   ]
  },
  {
   "cell_type": "markdown",
   "metadata": {},
   "source": [
    "Также можно обращаться к \"кускам\" списка"
   ]
  },
  {
   "cell_type": "code",
   "execution_count": 19,
   "metadata": {},
   "outputs": [
    {
     "name": "stdout",
     "output_type": "stream",
     "text": [
      "[2, 4, 6, 8]\n"
     ]
    }
   ],
   "source": [
    "print (listOdd[1:5])"
   ]
  },
  {
   "cell_type": "markdown",
   "metadata": {},
   "source": [
    "## Массивы в Python"
   ]
  },
  {
   "cell_type": "markdown",
   "metadata": {},
   "source": [
    "Работа с массивами в Python организована в библиотеке Numpy. Для начала ее нужно импортировать в проект. Сделаем это и сохраним библиотеку под коротким именем np"
   ]
  },
  {
   "cell_type": "code",
   "execution_count": 4,
   "metadata": {},
   "outputs": [],
   "source": [
    "import numpy as np"
   ]
  },
  {
   "cell_type": "markdown",
   "metadata": {},
   "source": [
    "### Создание векторов"
   ]
  },
  {
   "cell_type": "markdown",
   "metadata": {},
   "source": [
    "Самый простой способ создать вектор в `NumPy` — задать его явно с помощью __`numpy.array(list, dtype=None, ...)`__.\n",
    "\n",
    "Параметр __`list`__ задает итерируемый объект, из которого можно создать вектор. Например, в качестве этого параметра можно задать список чисел. Параметр __`dtype`__ задает тип значений вектора, например, __`float`__ — для вещественных значений и __`int`__ — для целочисленных. Если этот параметр не задан, то тип данных будет определен из типа элементов первого аргумента. "
   ]
  },
  {
   "cell_type": "code",
   "execution_count": 21,
   "metadata": {},
   "outputs": [
    {
     "name": "stdout",
     "output_type": "stream",
     "text": [
      "Вектор:\n",
      " [1 2 3 4]\n"
     ]
    }
   ],
   "source": [
    "vectorInt = np.array([1, 2, 3, 4])\n",
    "print ('Вектор:\\n', vectorInt)"
   ]
  },
  {
   "cell_type": "code",
   "execution_count": 22,
   "metadata": {},
   "outputs": [
    {
     "name": "stdout",
     "output_type": "stream",
     "text": [
      "[1 2 3 4 5]\n"
     ]
    }
   ],
   "source": [
    "# или из готового списка\n",
    "vectorIntList = np.array(listInt)\n",
    "print (vectorIntList)"
   ]
  },
  {
   "cell_type": "markdown",
   "metadata": {},
   "source": [
    "Другим способом задания вектора является функция numpy.arange(([start, ]stop, [step, ]...), которая задает последовательность чисел заданного типа из промежутка [start, stop) через шаг step:"
   ]
  },
  {
   "cell_type": "code",
   "execution_count": 23,
   "metadata": {},
   "outputs": [
    {
     "name": "stdout",
     "output_type": "stream",
     "text": [
      "Вещественный вектор чисел от 0 до 1 с шагом 0.3:\n",
      " [0.  0.3 0.6 0.9]\n"
     ]
    }
   ],
   "source": [
    "vectorFloat = np.arange(start=0, stop=1, step=0.3, dtype=float)\n",
    "print ('Вещественный вектор чисел от 0 до 1 с шагом 0.3:\\n', vectorFloat)"
   ]
  },
  {
   "cell_type": "markdown",
   "metadata": {},
   "source": [
    "Можно создавать и вектора случайных чисел через метод np.random.sample(), где в качестве аргументов указывается количество случайных чисел"
   ]
  },
  {
   "cell_type": "code",
   "execution_count": 24,
   "metadata": {},
   "outputs": [
    {
     "name": "stdout",
     "output_type": "stream",
     "text": [
      "[0.52034061 0.50481144 0.18064815 0.47036615 0.25780014 0.95642923\n",
      " 0.58503704 0.84736387 0.92434981 0.57537199]\n"
     ]
    }
   ],
   "source": [
    "vectorRand = np.random.sample(10)\n",
    "print (vectorRand)"
   ]
  },
  {
   "cell_type": "markdown",
   "metadata": {},
   "source": [
    "Подробнее про работу со случайными числами в Python и генераторы случайных чисел есть в http://librerussia.blogspot.com/2015/02/python-random.html"
   ]
  },
  {
   "cell_type": "markdown",
   "metadata": {},
   "source": [
    "## Задание 1"
   ]
  },
  {
   "cell_type": "markdown",
   "metadata": {},
   "source": [
    "На первом шаге создадим координаты X,Y случайных точек\n",
    "Создайте 2 списка векторов случайных чисел X и Y. В каждом из них должны быть 3 вектора случайных чисел с 5, 10 и 30 случайными числами"
   ]
  },
  {
   "cell_type": "code",
   "execution_count": 5,
   "metadata": {},
   "outputs": [
    {
     "name": "stdout",
     "output_type": "stream",
     "text": [
      "X =  [array([0.77876065, 0.50218487, 0.8985011 , 0.48188314, 0.61830089]), array([0.25145596, 0.16132354, 0.76602097, 0.51990289, 0.37440946,\n",
      "       0.14748064, 0.12514024, 0.99174486, 0.48315246, 0.26716754]), array([0.72632074, 0.00929364, 0.5023766 , 0.24707429, 0.6084922 ,\n",
      "       0.05211058, 0.82429514, 0.07180809, 0.87346377, 0.04747923,\n",
      "       0.87485342, 0.75610725, 0.16003511, 0.33696864, 0.88685929,\n",
      "       0.17268455, 0.35198022, 0.27177269, 0.45692445, 0.92695412,\n",
      "       0.58091389, 0.43027836, 0.68034902, 0.46275768, 0.31479286,\n",
      "       0.07917455, 0.03904427, 0.35548486, 0.16451444, 0.0600331 ])]\n",
      "Y =  [array([0.06665997, 0.76512231, 0.90776157, 0.54306343, 0.32832426]), array([0.5710144 , 0.29002483, 0.04547463, 0.28508725, 0.90157994,\n",
      "       0.20121988, 0.20704387, 0.74623276, 0.08479337, 0.34240076]), array([0.70976485, 0.72404667, 0.36712659, 0.57698508, 0.29194093,\n",
      "       0.01618153, 0.8051811 , 0.94502556, 0.22240818, 0.00661719,\n",
      "       0.47402387, 0.8418646 , 0.22741127, 0.2916045 , 0.04478767,\n",
      "       0.46887344, 0.57253938, 0.73674473, 0.46337593, 0.16080053,\n",
      "       0.22965307, 0.38678036, 0.37225272, 0.68845344, 0.85006103,\n",
      "       0.41163962, 0.4435275 , 0.63766813, 0.22866832, 0.09804235])]\n"
     ]
    }
   ],
   "source": [
    "X = [np.random.sample(5), np.random.sample(10), np.random.sample(30)]\n",
    "Y = [np.random.sample(5), np.random.sample(10), np.random.sample(30)]\n",
    "print(\"X = \", X)\n",
    "print(\"Y = \", Y)"
   ]
  },
  {
   "cell_type": "markdown",
   "metadata": {},
   "source": [
    "### Операции над векторами"
   ]
  },
  {
   "cell_type": "markdown",
   "metadata": {},
   "source": [
    "Векторы в NumPy можно складывать, вычитать, умножать на число и умножать на другой вектор (покоординатно):"
   ]
  },
  {
   "cell_type": "code",
   "execution_count": 25,
   "metadata": {},
   "outputs": [
    {
     "name": "stdout",
     "output_type": "stream",
     "text": [
      "Вектор a: [1 2 3]\n",
      "Вектор b: [6 5 4]\n",
      "Число k: 2\n"
     ]
    }
   ],
   "source": [
    "a = np.array([1, 2, 3])\n",
    "b = np.array([6, 5, 4])\n",
    "k = 2\n",
    "\n",
    "print ('Вектор a:', a)\n",
    "print ('Вектор b:', b)\n",
    "print ('Число k:', k)"
   ]
  },
  {
   "cell_type": "code",
   "execution_count": 26,
   "metadata": {},
   "outputs": [
    {
     "name": "stdout",
     "output_type": "stream",
     "text": [
      "Сумма a и b:\n",
      " [7 7 7]\n",
      "Разность a и b:\n",
      " [-5 -3 -1]\n",
      "Покоординатное умножение a и b:\n",
      " [ 6 10 12]\n",
      "Умножение вектора на число (осуществляется покоординатно):\n",
      " [2 4 6]\n"
     ]
    }
   ],
   "source": [
    "print ('Сумма a и b:\\n', a + b)\n",
    "print ('Разность a и b:\\n', a - b)\n",
    "print ('Покоординатное умножение a и b:\\n', a * b)\n",
    "print ('Умножение вектора на число (осуществляется покоординатно):\\n', k * a)"
   ]
  },
  {
   "cell_type": "markdown",
   "metadata": {},
   "source": [
    "### Нормы векторов"
   ]
  },
  {
   "cell_type": "markdown",
   "metadata": {},
   "source": [
    "Вспомним некоторые нормы, которые можно ввести в пространстве  ℝn , и рассмотрим, с помощью каких библиотек и функций их можно вычислять в NumPy."
   ]
  },
  {
   "cell_type": "markdown",
   "metadata": {},
   "source": [
    "#### p-норма"
   ]
  },
  {
   "cell_type": "markdown",
   "metadata": {},
   "source": [
    "p-норма (норма Гёльдера) для вектора $x = (x_{1}, \\dots, x_{n}) \\in \\mathbb{R}^{n}$ вычисляется по формуле:\n",
    "\n",
    "$$\n",
    "\\left\\Vert x \\right\\Vert_{p} = \\left( \\sum_{i=1}^n \\left| x_{i} \\right|^{p} \\right)^{1 / p},~p \\geq 1.\n",
    "$$"
   ]
  },
  {
   "cell_type": "markdown",
   "metadata": {},
   "source": [
    "В частных случаях при:\n",
    "* $p = 1$ получаем $\\ell_{1}$ норму\n",
    "* $p = 2$ получаем $\\ell_{2}$ норму"
   ]
  },
  {
   "cell_type": "markdown",
   "metadata": {},
   "source": [
    "Далее нам понабится модуль `numpy.linalg`, реализующий некоторые приложения линейной алгебры. Для вычисления различных норм мы используем функцию __`numpy.linalg.norm(x, ord=None, ...)`__, где __`x`__ — исходный вектор, __`ord`__ — параметр, определяющий норму (мы рассмотрим два варианта его значений — 1 и 2). Импортируем эту функцию:"
   ]
  },
  {
   "cell_type": "code",
   "execution_count": 6,
   "metadata": {},
   "outputs": [],
   "source": [
    "from numpy.linalg import norm"
   ]
  },
  {
   "cell_type": "markdown",
   "metadata": {},
   "source": [
    "### $\\ell_{1}$ норма"
   ]
  },
  {
   "cell_type": "markdown",
   "metadata": {},
   "source": [
    "$\\ell_{1}$ норма \n",
    "(также известная как [манхэттенское расстояние](https://ru.wikipedia.org/wiki/%D0%A0%D0%B0%D1%81%D1%81%D1%82%D0%BE%D1%8F%D0%BD%D0%B8%D0%B5_%D0%B3%D0%BE%D1%80%D0%BE%D0%B4%D1%81%D0%BA%D0%B8%D1%85_%D0%BA%D0%B2%D0%B0%D1%80%D1%82%D0%B0%D0%BB%D0%BE%D0%B2))\n",
    "для вектора $x = (x_{1}, \\dots, x_{n}) \\in \\mathbb{R}^{n}$ вычисляется по формуле:\n",
    "\n",
    "$$\n",
    " \\left\\Vert x \\right\\Vert_{1} = \\sum_{i=1}^n \\left| x_{i} \\right|.\n",
    "$$"
   ]
  },
  {
   "cell_type": "markdown",
   "metadata": {},
   "source": [
    "Ей в функции __`numpy.linalg.norm(x, ord=None, ...)`__ соответствует параметр __`ord=1`__."
   ]
  },
  {
   "cell_type": "code",
   "execution_count": 30,
   "metadata": {},
   "outputs": [
    {
     "name": "stdout",
     "output_type": "stream",
     "text": [
      "L1 норма вектора a:\n",
      " 6.0\n"
     ]
    }
   ],
   "source": [
    "a = np.array([1, 2, -3])\n",
    "print ('L1 норма вектора a:\\n', norm(a, ord=1))"
   ]
  },
  {
   "cell_type": "markdown",
   "metadata": {},
   "source": [
    "### $\\ell_{2}$ норма"
   ]
  },
  {
   "cell_type": "markdown",
   "metadata": {},
   "source": [
    "$\\ell_{2}$ норма (также известная как евклидова норма)\n",
    "для вектора $x = (x_{1}, \\dots, x_{n}) \\in \\mathbb{R}^{n}$ вычисляется по формуле:\n",
    "\n",
    "$$\n",
    " \\left\\Vert x \\right\\Vert_{2} = \\sqrt{\\sum_{i=1}^n \\left( x_{i} \\right)^2}.\n",
    "$$"
   ]
  },
  {
   "cell_type": "markdown",
   "metadata": {},
   "source": [
    "Ей в функции __`numpy.linalg.norm(x, ord=None, ...)`__ соответствует параметр __`ord=2`__."
   ]
  },
  {
   "cell_type": "code",
   "execution_count": 31,
   "metadata": {},
   "outputs": [
    {
     "name": "stdout",
     "output_type": "stream",
     "text": [
      "L2 норма вектора a:\n",
      " 3.7416573867739413\n"
     ]
    }
   ],
   "source": [
    "print ('L2 норма вектора a:\\n', norm(a, ord=2))"
   ]
  },
  {
   "cell_type": "markdown",
   "metadata": {},
   "source": [
    "### Расстояние между векторами"
   ]
  },
  {
   "cell_type": "markdown",
   "metadata": {},
   "source": [
    "Для двух векторов $x = (x_{1}, \\dots, x_{n}) \\in \\mathbb{R}^{n}$ и $y = (y_{1}, \\dots, y_{n}) \\in \\mathbb{R}^{n}$ $\\ell_{1}$ и $\\ell_{2}$ раccтояния вычисляются по следующим формулам соответственно:\n",
    "\n",
    "$$\n",
    " \\rho_{1}\\left( x, y \\right) = \\left\\Vert x - y \\right\\Vert_{1} = \\sum_{i=1}^n \\left| x_{i} - y_{i} \\right|\n",
    "$$\n",
    "\n",
    "$$\n",
    " \\rho_{2}\\left( x, y \\right) = \\left\\Vert x - y \\right\\Vert_{2} = \n",
    " \\sqrt{\\sum_{i=1}^n \\left( x_{i} - y_{i} \\right)^2}.\n",
    "$$"
   ]
  },
  {
   "cell_type": "code",
   "execution_count": 32,
   "metadata": {},
   "outputs": [
    {
     "name": "stdout",
     "output_type": "stream",
     "text": [
      "L1 расстояние между векторами a и b:\n",
      " 17.0\n"
     ]
    }
   ],
   "source": [
    "a = np.array([1, 2, -3])\n",
    "b = np.array([-4, 3, 8])\n",
    "print ('L1 расстояние между векторами a и b:\\n', norm(a - b, ord=1))"
   ]
  },
  {
   "cell_type": "code",
   "execution_count": 33,
   "metadata": {},
   "outputs": [
    {
     "name": "stdout",
     "output_type": "stream",
     "text": [
      "L2 расстояние между векторами a и b:\n",
      " 12.12435565298214\n"
     ]
    }
   ],
   "source": [
    "print ('L2 расстояние между векторами a и b:\\n', norm(a - b, ord=2))"
   ]
  },
  {
   "cell_type": "markdown",
   "metadata": {},
   "source": [
    "## Задание 2"
   ]
  },
  {
   "cell_type": "markdown",
   "metadata": {},
   "source": [
    "Напишите функцию для расчета расстояния (как Евклидового, так и Манхэттенновского) между двумя точками, координаты которых, находятся в векторе Х и Y. Причем вектора содержат координаты не одной, а множества точек. Функция принимает на вход вектора с координатами Х и Y, а также переменную mode, указывающую режим расчета - Евклидово или Манхэттоновское расстояние. \n",
    "Функция возвращает список расстояний между точками.\n",
    "Для расчета расстояния использовать метод norm"
   ]
  },
  {
   "cell_type": "code",
   "execution_count": 7,
   "metadata": {},
   "outputs": [
    {
     "name": "stdout",
     "output_type": "stream",
     "text": [
      "X =  [array([0.59440795, 0.29451908, 0.95931332, 0.24858365, 0.98551644]), array([0.9500079 , 0.33581438, 0.84999498, 0.02800532, 0.53832889,\n",
      "       0.57459099, 0.30279342, 0.71689138, 0.30165111, 0.61451573]), array([0.77413763, 0.52556347, 0.50524715, 0.59625509, 0.14197474,\n",
      "       0.25841652, 0.79000876, 0.63978976, 0.22029773, 0.08669548,\n",
      "       0.01899087, 0.19401412, 0.01989319, 0.27131803, 0.47732371,\n",
      "       0.50221806, 0.30124313, 0.61165754, 0.01449133, 0.9679577 ,\n",
      "       0.76272141, 0.02613474, 0.41740205, 0.22141712, 0.47796433,\n",
      "       0.97768809, 0.6447503 , 0.02914409, 0.11622933, 0.86650442])]\n",
      "Y =  [array([0.68537819, 0.3571783 , 0.24919358, 0.81420659, 0.6778076 ]), array([0.60989698, 0.05163936, 0.30083896, 0.92023543, 0.84901165,\n",
      "       0.68850085, 0.04077124, 0.02169   , 0.19410991, 0.50880557]), array([0.61934221, 0.67580429, 0.96629193, 0.54154083, 0.3769918 ,\n",
      "       0.35144723, 0.93087979, 0.88386596, 0.7577339 , 0.76007138,\n",
      "       0.25511713, 0.60424855, 0.74131826, 0.47488896, 0.92125088,\n",
      "       0.70980237, 0.95128843, 0.46417196, 0.56009513, 0.80394534,\n",
      "       0.26107084, 0.63875398, 0.51400555, 0.4080323 , 0.23546888,\n",
      "       0.55843358, 0.70368721, 0.34385334, 0.27908584, 0.78031371])]\n"
     ]
    }
   ],
   "source": [
    "#Приведём списки векторов к просто векторам в соответствии с заданием \"Функция принимает на вход вектора с координатами Х и Y\"\n",
    "X = [np.random.sample(5), np.random.sample(10), np.random.sample(30)]\n",
    "Y = [np.random.sample(5), np.random.sample(10), np.random.sample(30)]\n",
    "\n",
    "print(\"X = \", X)\n",
    "print(\"Y = \", Y)"
   ]
  },
  {
   "cell_type": "code",
   "execution_count": 8,
   "metadata": {},
   "outputs": [],
   "source": [
    "def dist(X,Y,mode):\n",
    "   #Создаём массив точек, где каждая точка - массив (то есть, массив массивов) \n",
    "    print(\"X =\", X)\n",
    "    print(\"Y =\", Y)\n",
    "    a = np.array([[X[i], Y[i]] for i in range(len(X))])\n",
    "    print(\"a = \\n\", a)\n",
    "    distances = []\n",
    "    \n",
    "    for i in range(0, len(a)):\n",
    "        for j in range(0, len(a)):\n",
    "            distance = norm(a[i] - a[j], ord=mode)\n",
    "            distances.append(distance)\n",
    "            print(\"L\" + str(mode) + \" расстояние между точками a[\" + str(i) + \"] и a[\" + str(j) + \"] равно \" + str(distance))\n",
    "            \n",
    "        \n",
    "    return distances"
   ]
  },
  {
   "cell_type": "markdown",
   "metadata": {},
   "source": [
    "Примените полученную функцию. Сделайте список списков расстояний"
   ]
  },
  {
   "cell_type": "code",
   "execution_count": 10,
   "metadata": {
    "scrolled": true
   },
   "outputs": [
    {
     "name": "stdout",
     "output_type": "stream",
     "text": [
      "X = [0.59440795 0.29451908 0.95931332 0.24858365 0.98551644]\n",
      "Y = [0.68537819 0.3571783  0.24919358 0.81420659 0.6778076 ]\n",
      "a = \n",
      " [[0.59440795 0.68537819]\n",
      " [0.29451908 0.3571783 ]\n",
      " [0.95931332 0.24919358]\n",
      " [0.24858365 0.81420659]\n",
      " [0.98551644 0.6778076 ]]\n",
      "L1 расстояние между точками a[0] и a[0] равно 0.0\n",
      "L1 расстояние между точками a[0] и a[1] равно 0.6280887684315154\n",
      "L1 расстояние между точками a[0] и a[2] равно 0.8010899847229763\n",
      "L1 расстояние между точками a[0] и a[3] равно 0.47465269218158823\n",
      "L1 расстояние между точками a[0] и a[4] равно 0.39867908354655623\n",
      "L1 расстояние между точками a[1] и a[0] равно 0.6280887684315154\n",
      "L1 расстояние между точками a[1] и a[1] равно 0.0\n",
      "L1 расстояние между точками a[1] и a[2] равно 0.7727789625388812\n",
      "L1 расстояние между точками a[1] и a[3] равно 0.5029637143656833\n",
      "L1 расстояние между точками a[1] и a[4] равно 1.0116266701372545\n",
      "L1 расстояние между точками a[2] и a[0] равно 0.8010899847229763\n",
      "L1 расстояние между точками a[2] и a[1] равно 0.7727789625388812\n",
      "L1 расстояние между точками a[2] и a[2] равно 0.0\n",
      "L1 расстояние между точками a[2] и a[3] равно 1.2757426769045646\n",
      "L1 расстояние между точками a[2] и a[4] равно 0.45481713900474485\n",
      "L1 расстояние между точками a[3] и a[0] равно 0.47465269218158823\n",
      "L1 расстояние между точками a[3] и a[1] равно 0.5029637143656833\n",
      "L1 расстояние между точками a[3] и a[2] равно 1.2757426769045646\n",
      "L1 расстояние между точками a[3] и a[3] равно 0.0\n",
      "L1 расстояние между точками a[3] и a[4] равно 0.8733317757281445\n",
      "L1 расстояние между точками a[4] и a[0] равно 0.39867908354655623\n",
      "L1 расстояние между точками a[4] и a[1] равно 1.0116266701372545\n",
      "L1 расстояние между точками a[4] и a[2] равно 0.45481713900474485\n",
      "L1 расстояние между точками a[4] и a[3] равно 0.8733317757281445\n",
      "L1 расстояние между точками a[4] и a[4] равно 0.0\n",
      "[[0.0, 0.6280887684315154, 0.8010899847229763, 0.47465269218158823, 0.39867908354655623, 0.6280887684315154, 0.0, 0.7727789625388812, 0.5029637143656833, 1.0116266701372545, 0.8010899847229763, 0.7727789625388812, 0.0, 1.2757426769045646, 0.45481713900474485, 0.47465269218158823, 0.5029637143656833, 1.2757426769045646, 0.0, 0.8733317757281445, 0.39867908354655623, 1.0116266701372545, 0.45481713900474485, 0.8733317757281445, 0.0]]\n"
     ]
    }
   ],
   "source": [
    "distList = [dist(X[0], Y[0], 1)] # , dist(X[1], Y[1], 1), dist(X[2], Y[2], 1)]\n",
    "print(distList)"
   ]
  },
  {
   "cell_type": "markdown",
   "metadata": {},
   "source": [
    "### Создание матриц "
   ]
  },
  {
   "cell_type": "markdown",
   "metadata": {},
   "source": [
    "Приведем несколько способов создания матриц в NumPy."
   ]
  },
  {
   "cell_type": "markdown",
   "metadata": {},
   "source": [
    "Самый простой способ — с помощью функции numpy.array(list, dtype=None, ...).\n",
    "\n",
    "В качестве первого аргумента ей надо передать итерируемый объект, элементами которого являются другие итерируемые объекты одинаковой длины и содержащие данные одинакового типа.\n",
    "\n",
    "Второй аргумент является опциональным и определяет тип данных матрицы. Его можно не задавать, тогда тип данных будет определен из типа элементов первого аргумента. При задании этого параметра будет произведена попытка приведения типов.\n",
    "\n",
    "Например, матрицу из списка списков целых чисел можно создать следующим образом:"
   ]
  },
  {
   "cell_type": "code",
   "execution_count": 323,
   "metadata": {},
   "outputs": [
    {
     "name": "stdout",
     "output_type": "stream",
     "text": [
      "Матрица:\n",
      " [[1 2 3]\n",
      " [2 5 6]\n",
      " [6 7 4]]\n"
     ]
    }
   ],
   "source": [
    "a = np.array([[1, 2, 3], [2, 5, 6], [6, 7, 4]])\n",
    "print (\"Матрица:\\n\", a)"
   ]
  },
  {
   "cell_type": "markdown",
   "metadata": {},
   "source": [
    "Второй способ создания — с помощью встроенных функций numpy.eye(N, M=None, ...), numpy.zeros(shape, ...), numpy.ones(shape, ...).\n",
    "\n",
    "Первая функция создает единичную матрицу размера  N×MN×M ; если  MM  не задан, то  M=NM=N .\n",
    "\n",
    "Вторая и третья функции создают матрицы, состоящие целиком из нулей или единиц соответственно. В качестве первого аргумента необходимо задать размерность массива — кортеж целых чисел. В двумерном случае это набор из двух чисел: количество строк и столбцов матрицы.\n",
    "\n",
    "#### Примеры:"
   ]
  },
  {
   "cell_type": "code",
   "execution_count": 4,
   "metadata": {},
   "outputs": [
    {
     "name": "stdout",
     "output_type": "stream",
     "text": [
      "Единичная матрица:\n",
      " [[1. 0. 0. 0. 0.]\n",
      " [0. 1. 0. 0. 0.]\n",
      " [0. 0. 1. 0. 0.]\n",
      " [0. 0. 0. 1. 0.]\n",
      " [0. 0. 0. 0. 1.]]\n"
     ]
    }
   ],
   "source": [
    "ones = np.eye(5)\n",
    "print (\"Единичная матрица:\\n\", ones)"
   ]
  },
  {
   "cell_type": "code",
   "execution_count": 29,
   "metadata": {},
   "outputs": [
    {
     "name": "stdout",
     "output_type": "stream",
     "text": [
      "[[0. 0. 0. 0. 0.]\n",
      " [0. 0. 0. 0. 0.]]\n"
     ]
    }
   ],
   "source": [
    "zero = np.zeros((2,5))\n",
    "print (zero)"
   ]
  },
  {
   "cell_type": "code",
   "execution_count": 5,
   "metadata": {},
   "outputs": [
    {
     "name": "stdout",
     "output_type": "stream",
     "text": [
      "Матрица, состоящая из одних единиц:\n",
      " [[1. 1. 1. 1. 1.]\n",
      " [1. 1. 1. 1. 1.]\n",
      " [1. 1. 1. 1. 1.]\n",
      " [1. 1. 1. 1. 1.]\n",
      " [1. 1. 1. 1. 1.]\n",
      " [1. 1. 1. 1. 1.]\n",
      " [1. 1. 1. 1. 1.]]\n"
     ]
    }
   ],
   "source": [
    "onlyOnes = np.ones((7, 5))\n",
    "print (\"Матрица, состоящая из одних единиц:\\n\", onlyOnes)"
   ]
  },
  {
   "cell_type": "markdown",
   "metadata": {},
   "source": [
    "#### Обратите внимание: размерность массива задается не двумя аргументами функции, а одним — кортежем! Кортеж - набор чисел, заключенных в (). Поэтому помните о вторых () в аргументах!!!"
   ]
  },
  {
   "cell_type": "markdown",
   "metadata": {},
   "source": [
    "И, наконец, третий способ — с помощью функции __`numpy.arange([start, ]stop, [step, ], ...)`__, которая создает одномерный массив последовательных чисел из промежутка __`[start, stop)`__ с заданным шагом __`step`__, и _метода_ __`array.reshape(shape)`__. \n",
    "\n",
    "Параметр __`shape`__, как и в предыдущем примере, задает размерность матрицы (кортеж чисел). Логика работы метода ясна из следующего примера:"
   ]
  },
  {
   "cell_type": "code",
   "execution_count": 309,
   "metadata": {},
   "outputs": [
    {
     "name": "stdout",
     "output_type": "stream",
     "text": [
      "Вектор-столбец:\n",
      " [ 0  2  4  6  8 10 12 14 16 18 20 22]\n"
     ]
    }
   ],
   "source": [
    "v = np.arange(0, 24, 2)\n",
    "print (\"Вектор-столбец:\\n\", v)"
   ]
  },
  {
   "cell_type": "code",
   "execution_count": 310,
   "metadata": {},
   "outputs": [
    {
     "name": "stdout",
     "output_type": "stream",
     "text": [
      "Матрица:\n",
      " [[ 0  2  4  6]\n",
      " [ 8 10 12 14]\n",
      " [16 18 20 22]]\n"
     ]
    }
   ],
   "source": [
    "d = v.reshape((3, 4))\n",
    "print (\"Матрица:\\n\", d)"
   ]
  },
  {
   "cell_type": "markdown",
   "metadata": {},
   "source": [
    "#### Индексирование"
   ]
  },
  {
   "cell_type": "code",
   "execution_count": 317,
   "metadata": {},
   "outputs": [
    {
     "name": "stdout",
     "output_type": "stream",
     "text": [
      "Второй элемент третьей строки матрицы: 18\n"
     ]
    }
   ],
   "source": [
    "print (\"Второй элемент третьей строки матрицы:\", d[2, 1])"
   ]
  },
  {
   "cell_type": "markdown",
   "metadata": {},
   "source": [
    "Из матрицы можно получать целые строки или столбцы с помощью выражений __`array[i, :]`__ или __`array[:, j]`__ соответственно:"
   ]
  },
  {
   "cell_type": "code",
   "execution_count": 37,
   "metadata": {},
   "outputs": [
    {
     "name": "stdout",
     "output_type": "stream",
     "text": [
      "Вторая строка матрицы d:\n",
      " [ 8 10 12 14]\n",
      "Четвертый столбец матрицы d:\n",
      " [ 6 14 22]\n"
     ]
    }
   ],
   "source": [
    "print (\"Вторая строка матрицы d:\\n\", d[1, :])\n",
    "print (\"Четвертый столбец матрицы d:\\n\", d[:, 3])"
   ]
  },
  {
   "cell_type": "markdown",
   "metadata": {},
   "source": [
    "#### Транспонирование матриц"
   ]
  },
  {
   "cell_type": "markdown",
   "metadata": {},
   "source": [
    "__Напоминание теории.__ __Транспонированной матрицей__ $A^{T}$ называется матрица, полученная из исходной матрицы $A$ заменой строк на столбцы. Формально: элементы матрицы $A^{T}$ определяются как $a^{T}_{ij} = a_{ji}$, где $a^{T}_{ij}$ — элемент матрицы $A^{T}$, стоящий на пересечении строки с номером $i$ и столбца с номером $j$.\n",
    "\n",
    "В `NumPy` транспонированная матрица вычисляется с помощью функции __`numpy.transpose()`__ или с помощью _метода_ __`array.T`__, где __`array`__ — нужный двумерный массив."
   ]
  },
  {
   "cell_type": "code",
   "execution_count": 32,
   "metadata": {},
   "outputs": [
    {
     "name": "stdout",
     "output_type": "stream",
     "text": [
      "Матрица а: \n",
      " [[1 2]\n",
      " [3 4]]\n",
      "Транспонирование функцией:\n",
      " [[1 3]\n",
      " [2 4]]\n",
      "Транспонирование методом:\n",
      " [[1 3]\n",
      " [2 4]]\n"
     ]
    }
   ],
   "source": [
    "a = np.array([[1, 2], [3, 4]])\n",
    "aTransFun = np.transpose(a)\n",
    "aTransT = a.T\n",
    "print ('Матрица а: \\n', a)\n",
    "print (\"Транспонирование функцией:\\n\", aTransFun)\n",
    "print (\"Транспонирование методом:\\n\",  aTransT)\n"
   ]
  },
  {
   "cell_type": "markdown",
   "metadata": {},
   "source": [
    "#### Диагональная матрица"
   ]
  },
  {
   "cell_type": "markdown",
   "metadata": {},
   "source": [
    "Диагональная матрица содержит элементы главной диагонали исходной матрицы.\n",
    "Для получения диагональной матрицы из исходной используется метод np.diag(), параметром которого является исходная матрица"
   ]
  },
  {
   "cell_type": "code",
   "execution_count": 39,
   "metadata": {},
   "outputs": [
    {
     "name": "stdout",
     "output_type": "stream",
     "text": [
      "Диагональная матрица от а: \n",
      " [1 4]\n"
     ]
    }
   ],
   "source": [
    "aDiag = np.diag(a)\n",
    "print ('Диагональная матрица от а: \\n', aDiag)"
   ]
  },
  {
   "cell_type": "markdown",
   "metadata": {},
   "source": [
    "Если применить этот метод дважды к исходной матрице, то получим матрицу с 0 по всем элементам, кроме главной диагонали"
   ]
  },
  {
   "cell_type": "code",
   "execution_count": 40,
   "metadata": {},
   "outputs": [
    {
     "name": "stdout",
     "output_type": "stream",
     "text": [
      "[[1 0]\n",
      " [0 4]]\n"
     ]
    }
   ],
   "source": [
    "aDiagDouble = np.diag(np.diag(a))\n",
    "print (aDiagDouble)"
   ]
  },
  {
   "cell_type": "markdown",
   "metadata": {},
   "source": [
    "## Задание 3"
   ]
  },
  {
   "cell_type": "markdown",
   "metadata": {},
   "source": [
    "Преобразите полученные списки расстояний в квадратные матрицы "
   ]
  },
  {
   "cell_type": "code",
   "execution_count": 12,
   "metadata": {
    "scrolled": true
   },
   "outputs": [
    {
     "data": {
      "text/plain": [
       "array([[0.        , 0.62808877, 0.80108998, 0.47465269, 0.39867908],\n",
       "       [0.62808877, 0.        , 0.77277896, 0.50296371, 1.01162667],\n",
       "       [0.80108998, 0.77277896, 0.        , 1.27574268, 0.45481714],\n",
       "       [0.47465269, 0.50296371, 1.27574268, 0.        , 0.87333178],\n",
       "       [0.39867908, 1.01162667, 0.45481714, 0.87333178, 0.        ]])"
      ]
     },
     "execution_count": 12,
     "metadata": {},
     "output_type": "execute_result"
    }
   ],
   "source": [
    "import math\n",
    "def toSquareMatrix(Distances):\n",
    "    l = len(Distances)\n",
    "    n = int(math.sqrt(l))\n",
    "    squareMatrix = np.zeros((n,n))\n",
    "    z = 0\n",
    "    #print(Distances)\n",
    "    for i in range(0, n):\n",
    "        for j in range(0, n):\n",
    "            squareMatrix[i][j] = Distances[z]\n",
    "            z = z+1                \n",
    "    return squareMatrix\n",
    "\n",
    "toSquareMatrix(distList[0])\n",
    "\n"
   ]
  },
  {
   "cell_type": "markdown",
   "metadata": {},
   "source": [
    "## DataFrame"
   ]
  },
  {
   "cell_type": "markdown",
   "metadata": {},
   "source": [
    "DataFrame являются удобным и общепринятым инструментом работы с датасетами. Для работы с ними нужна библиотека pandas. загрузим ее под кратким именем pd"
   ]
  },
  {
   "cell_type": "code",
   "execution_count": 14,
   "metadata": {},
   "outputs": [],
   "source": [
    "import pandas as pd"
   ]
  },
  {
   "cell_type": "markdown",
   "metadata": {},
   "source": [
    "### Создание DataFrame"
   ]
  },
  {
   "cell_type": "markdown",
   "metadata": {},
   "source": [
    "DataFrame - это набор Series. Series - это вектор с заголовком. "
   ]
  },
  {
   "cell_type": "markdown",
   "metadata": {},
   "source": [
    "DataFrame можно создавать \"вручную\":"
   ]
  },
  {
   "cell_type": "code",
   "execution_count": 43,
   "metadata": {},
   "outputs": [
    {
     "name": "stdout",
     "output_type": "stream",
     "text": [
      "   col1  col2\n",
      "0     1     4\n",
      "1     2     5\n",
      "2     3     6\n"
     ]
    }
   ],
   "source": [
    "df = pd.DataFrame({'col1':[1,2,3],'col2':[4,5,6]})\n",
    "print (df)"
   ]
  },
  {
   "cell_type": "markdown",
   "metadata": {},
   "source": [
    "или из массивов"
   ]
  },
  {
   "cell_type": "code",
   "execution_count": 483,
   "metadata": {},
   "outputs": [
    {
     "name": "stdout",
     "output_type": "stream",
     "text": [
      "   col1  col2\n",
      "0     1     2\n",
      "1     4     5\n"
     ]
    }
   ],
   "source": [
    "a = [[1,2], [4,5]]\n",
    "dfArr = pd.DataFrame(a, columns = ['col1','col2'])\n",
    "print (dfArr)"
   ]
  },
  {
   "cell_type": "markdown",
   "metadata": {},
   "source": [
    "Подробная информация по созданию DataFrame есть в документации pandas http://pandas.pydata.org/pandas-docs/stable/generated/pandas.DataFrame.html"
   ]
  },
  {
   "cell_type": "markdown",
   "metadata": {},
   "source": [
    "#### Сохранение DataFrame в файл"
   ]
  },
  {
   "cell_type": "markdown",
   "metadata": {},
   "source": [
    "DataFrame содержит ряд методов по сохранению в файл. Все они начинаются с to_\n",
    "Сохраним полученный dataframe в excel"
   ]
  },
  {
   "cell_type": "code",
   "execution_count": 495,
   "metadata": {},
   "outputs": [],
   "source": [
    "dfArr.to_excel('test.xlsx')"
   ]
  },
  {
   "cell_type": "markdown",
   "metadata": {},
   "source": [
    "Файл запишется в папку проекта"
   ]
  },
  {
   "cell_type": "markdown",
   "metadata": {},
   "source": [
    "## Задание 4"
   ]
  },
  {
   "cell_type": "markdown",
   "metadata": {},
   "source": [
    "Создайте на основе полученного массива DataFrame и запишите его в файл excel"
   ]
  },
  {
   "cell_type": "code",
   "execution_count": 18,
   "metadata": {},
   "outputs": [
    {
     "name": "stdout",
     "output_type": "stream",
     "text": [
      "       col1      col2      col3      col4      col5\n",
      "0  0.000000  0.628089  0.801090  0.474653  0.398679\n",
      "1  0.628089  0.000000  0.772779  0.502964  1.011627\n",
      "2  0.801090  0.772779  0.000000  1.275743  0.454817\n",
      "3  0.474653  0.502964  1.275743  0.000000  0.873332\n",
      "4  0.398679  1.011627  0.454817  0.873332  0.000000\n"
     ]
    }
   ],
   "source": [
    "arr = toSquareMatrix(distList[0])\n",
    "dfArray = pd.DataFrame(arr, columns = ['col1','col2','col3','col4','col5'])\n",
    "print (dfArray)\n",
    "dfArray.to_excel(r'C:\\Users\\1\\Desktop\\3 курс\\Питон\\'Test 1.xlsx')"
   ]
  },
  {
   "cell_type": "markdown",
   "metadata": {},
   "source": [
    "## Задание 5"
   ]
  },
  {
   "cell_type": "markdown",
   "metadata": {},
   "source": [
    "Отсортируйте по возрастанию расстояния в DataFrame для любой из точек. Используйте метод DataFrame.sort_values()"
   ]
  },
  {
   "cell_type": "code",
   "execution_count": 21,
   "metadata": {},
   "outputs": [
    {
     "name": "stdout",
     "output_type": "stream",
     "text": [
      "       col1      col2      col3      col4      col5\n",
      "0  0.000000  0.628089  0.801090  0.474653  0.398679\n",
      "4  0.398679  1.011627  0.454817  0.873332  0.000000\n",
      "3  0.474653  0.502964  1.275743  0.000000  0.873332\n",
      "1  0.628089  0.000000  0.772779  0.502964  1.011627\n",
      "2  0.801090  0.772779  0.000000  1.275743  0.454817\n"
     ]
    }
   ],
   "source": [
    "dfArray = dfArray.sort_values(by=['col1'])\n",
    "print(dfArray)"
   ]
  },
  {
   "cell_type": "markdown",
   "metadata": {},
   "source": [
    "## Запись в файл"
   ]
  },
  {
   "cell_type": "markdown",
   "metadata": {},
   "source": [
    "Ниже приведена функцию записи списка значений в текстовый файл"
   ]
  },
  {
   "cell_type": "code",
   "execution_count": 32,
   "metadata": {},
   "outputs": [],
   "source": [
    "def write_answer(listasn):\n",
    "    with open(\"answer.txt\", \"w\") as fout:\n",
    "        fout.write(\".\".join([str(num) for num in listasn]))"
   ]
  },
  {
   "cell_type": "markdown",
   "metadata": {},
   "source": [
    "Поробуйте разобраться в ней самостоятельно и используйте ее для записи списка точек в порядке возрастания расстояния между ними"
   ]
  },
  {
   "cell_type": "code",
   "execution_count": 35,
   "metadata": {},
   "outputs": [
    {
     "name": "stdout",
     "output_type": "stream",
     "text": [
      "       col1      col2      col3      col4      col5\n",
      "0  0.000000  0.628089  0.801090  0.474653  0.398679\n",
      "4  0.398679  1.011627  0.454817  0.873332  0.000000\n",
      "3  0.474653  0.502964  1.275743  0.000000  0.873332\n",
      "1  0.628089  0.000000  0.772779  0.502964  1.011627\n",
      "2  0.801090  0.772779  0.000000  1.275743  0.454817\n"
     ]
    }
   ],
   "source": [
    "write_answer(dfArray)\n",
    "print(dfArray)"
   ]
  },
  {
   "cell_type": "code",
   "execution_count": null,
   "metadata": {},
   "outputs": [],
   "source": []
  }
 ],
 "metadata": {
  "kernelspec": {
   "display_name": "Python 3",
   "language": "python",
   "name": "python3"
  },
  "language_info": {
   "codemirror_mode": {
    "name": "ipython",
    "version": 3
   },
   "file_extension": ".py",
   "mimetype": "text/x-python",
   "name": "python",
   "nbconvert_exporter": "python",
   "pygments_lexer": "ipython3",
   "version": "3.7.4"
  }
 },
 "nbformat": 4,
 "nbformat_minor": 2
}
