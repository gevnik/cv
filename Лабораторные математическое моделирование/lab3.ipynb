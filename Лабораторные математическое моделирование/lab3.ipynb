{
 "cells": [
  {
   "cell_type": "markdown",
   "metadata": {},
   "source": [
    "## Лабораторная работа №3\n",
    "# Линейная регрессия на числовых параметрах"
   ]
  },
  {
   "cell_type": "markdown",
   "metadata": {},
   "source": [
    "## Задача\n",
    "Построить модель для прогнозирования цен на недвижимость в Бостоне\n",
    "### Данные\n",
    "\n",
    "В качестве данных для модели используется датасет с набором данных по цене недвижимости в Бостоне. В наборе учетны 13 параметров, влияющих на цену недвижимости. Все параметры числовые.\n"
   ]
  },
  {
   "cell_type": "markdown",
   "metadata": {},
   "source": [
    "#### Инструменты решения\n",
    "Решение будет в виде линейной регрессии. Теорию по линейной регрессии смотрите в лекции.\n",
    "Для создания модели используется библиотека SkLearn.\n",
    "Для обработки данных используется библиотека pandas\n"
   ]
  },
  {
   "cell_type": "markdown",
   "metadata": {},
   "source": [
    "Загрузим библиотеки"
   ]
  },
  {
   "cell_type": "code",
   "execution_count": 32,
   "metadata": {},
   "outputs": [],
   "source": [
    "import numpy as np\n",
    "#загрузим pandas\n",
    "import pandas as pd\n",
    "#загрузим функцию для данных\n",
    "from sklearn.datasets import load_boston\n",
    "#загрузим регрессор\n",
    "from sklearn.linear_model import LinearRegression\n",
    "# загрузим набор для измерения качества модели и инструмент для кросс валидации\n",
    "from sklearn import metrics \n",
    "from sklearn.model_selection import cross_validate, cross_val_score, train_test_split"
   ]
  },
  {
   "cell_type": "markdown",
   "metadata": {},
   "source": [
    "Для начала нужно подготовить данные с помощью библиотеки Pandas"
   ]
  },
  {
   "cell_type": "markdown",
   "metadata": {},
   "source": [
    "### Библиотека Pandas"
   ]
  },
  {
   "cell_type": "markdown",
   "metadata": {},
   "source": [
    "### Series"
   ]
  },
  {
   "cell_type": "markdown",
   "metadata": {},
   "source": [
    "<p>Конструкторв класса выглядит следующим образом</p>\n",
    "pandas.Series(data=None, index=None, dtype=None, name=None, copy=False, fastpath=False)\n",
    "\n",
    "data – массив, словарь или скалярное значение, на базе которого будет построен Series;\n",
    "\n",
    "index – список меток, который будет использоваться для доступа к элементам Series. Длина списка должна быть равна длине data;\n",
    "\n",
    "dtype – объект numpy.dtype, определяющий тип данных;\n",
    "\n",
    "copy – создает копию массива данных, если параметр равен True в ином случае ничего не делает."
   ]
  },
  {
   "cell_type": "markdown",
   "metadata": {},
   "source": [
    "Создание Series из списка"
   ]
  },
  {
   "cell_type": "code",
   "execution_count": 4,
   "metadata": {},
   "outputs": [
    {
     "name": "stdout",
     "output_type": "stream",
     "text": [
      "0    1\n",
      "1    2\n",
      "2    3\n",
      "3    4\n",
      "4    5\n",
      "dtype: int64\n"
     ]
    }
   ],
   "source": [
    "s1 = pd.Series([1, 2, 3, 4, 5])\n",
    "print(s1)"
   ]
  },
  {
   "cell_type": "markdown",
   "metadata": {},
   "source": [
    "Добавим индексы в виде букв"
   ]
  },
  {
   "cell_type": "code",
   "execution_count": 3,
   "metadata": {},
   "outputs": [
    {
     "name": "stdout",
     "output_type": "stream",
     "text": [
      "a    1\n",
      "b    2\n",
      "c    3\n",
      "d    4\n",
      "e    5\n",
      "dtype: int64\n"
     ]
    }
   ],
   "source": [
    "s2 = pd.Series([1, 2, 3, 4, 5], ['a','b', 'c','d','e'])\n",
    "print(s2)"
   ]
  },
  {
   "cell_type": "markdown",
   "metadata": {},
   "source": [
    "Создание Series из массива"
   ]
  },
  {
   "cell_type": "code",
   "execution_count": 5,
   "metadata": {},
   "outputs": [
    {
     "name": "stdout",
     "output_type": "stream",
     "text": [
      "a    1\n",
      "b    2\n",
      "c    3\n",
      "d    4\n",
      "dtype: int32\n"
     ]
    }
   ],
   "source": [
    "arr1 = np.array([1,2,3,4])\n",
    "s3 = pd.Series(arr1, ['a','b', 'c','d'])\n",
    "print(s3)"
   ]
  },
  {
   "cell_type": "markdown",
   "metadata": {},
   "source": [
    "Обращение к элементу Series"
   ]
  },
  {
   "cell_type": "code",
   "execution_count": 6,
   "metadata": {},
   "outputs": [
    {
     "name": "stdout",
     "output_type": "stream",
     "text": [
      "1\n"
     ]
    }
   ],
   "source": [
    "el1 = s3[0]\n",
    "print (el1)"
   ]
  },
  {
   "cell_type": "markdown",
   "metadata": {},
   "source": [
    "Обращение к индексу элемента"
   ]
  },
  {
   "cell_type": "code",
   "execution_count": 9,
   "metadata": {},
   "outputs": [
    {
     "name": "stdout",
     "output_type": "stream",
     "text": [
      "a\n"
     ]
    }
   ],
   "source": [
    "el1index = s3.index[0]\n",
    "print (el1index)"
   ]
  },
  {
   "cell_type": "markdown",
   "metadata": {},
   "source": [
    "Выбор первых 2 элементов"
   ]
  },
  {
   "cell_type": "code",
   "execution_count": 10,
   "metadata": {},
   "outputs": [
    {
     "name": "stdout",
     "output_type": "stream",
     "text": [
      "a    1\n",
      "b    2\n",
      "dtype: int32\n"
     ]
    }
   ],
   "source": [
    "elements2 = s3[:2]\n",
    "print (elements2)"
   ]
  },
  {
   "cell_type": "markdown",
   "metadata": {},
   "source": [
    "### DataFrame"
   ]
  },
  {
   "cell_type": "markdown",
   "metadata": {},
   "source": [
    "DataFrame представляет собой набор Series, а проще его представить как таблицу.\n",
    "**Конструктор класса DataFrame выглядит так:**\n",
    "\n",
    "class pandas.DataFrame(data=None, index=None, columns=None, dtype=None, copy=False)\n",
    "* data – массив ndarray, словарь (dict) или другой DataFrame;\n",
    "\n",
    "* index – список меток для записей (имена строк таблицы);\n",
    "\n",
    "* columns – список меток для полей (имена столбцов таблицы);\n",
    "\n",
    "* dtype – объект numpy.dtype, определяющий тип данных;\n",
    "\n",
    "* copy – создает копию массива данных, если параметр равен True в ином случае ничего не делает."
   ]
  },
  {
   "cell_type": "markdown",
   "metadata": {},
   "source": [
    "<p>Структуру DataFrame можно создать на базе:</p>\n",
    "\n",
    "* словаря (dict) в качестве элементов которого должны выступать: одномерные ndarray, списки, другие словари, структуры Series;\n",
    "* двумерные ndarray;\n",
    "* структуры Series;\n",
    "* структурированные ndarray;\n",
    "* другие DataFrame."
   ]
  },
  {
   "cell_type": "markdown",
   "metadata": {},
   "source": [
    "Создание на основе словаря из Series"
   ]
  },
  {
   "cell_type": "code",
   "execution_count": 33,
   "metadata": {},
   "outputs": [
    {
     "name": "stdout",
     "output_type": "stream",
     "text": [
      "    price  count\n",
      "v1      1     10\n",
      "v2      2     12\n",
      "v3      3      7\n"
     ]
    }
   ],
   "source": [
    "d = {\"price\":pd.Series([1, 2, 3], index=['v1', 'v2', 'v3']),\n",
    "     \"count\": pd.Series([10, 12, 7], index=['v1', 'v2', 'v3'])}\n",
    "df1 = pd.DataFrame(d)\n",
    "\n",
    "print(df1)"
   ]
  },
  {
   "cell_type": "markdown",
   "metadata": {},
   "source": [
    "Выведем индексы"
   ]
  },
  {
   "cell_type": "code",
   "execution_count": 34,
   "metadata": {},
   "outputs": [
    {
     "name": "stdout",
     "output_type": "stream",
     "text": [
      "Index(['v1', 'v2', 'v3'], dtype='object')\n"
     ]
    }
   ],
   "source": [
    "print(df1.index)"
   ]
  },
  {
   "cell_type": "markdown",
   "metadata": {},
   "source": [
    "Выведем колонки "
   ]
  },
  {
   "cell_type": "code",
   "execution_count": 14,
   "metadata": {},
   "outputs": [
    {
     "name": "stdout",
     "output_type": "stream",
     "text": [
      "Index(['price', 'count'], dtype='object')\n"
     ]
    }
   ],
   "source": [
    "print(df1.columns)"
   ]
  },
  {
   "cell_type": "markdown",
   "metadata": {},
   "source": [
    "Создание на основе словаря из массивов"
   ]
  },
  {
   "cell_type": "code",
   "execution_count": 2,
   "metadata": {},
   "outputs": [
    {
     "name": "stdout",
     "output_type": "stream",
     "text": [
      "    price  count\n",
      "v1      1     10\n",
      "v2      2     12\n",
      "v3      3      7\n"
     ]
    }
   ],
   "source": [
    "d2 = {\"price\":np.array([1, 2, 3]),\n",
    "       \"count\": np.array([10, 12, 7])}\n",
    "df2 = pd.DataFrame(d2, index = ['v1', 'v2', 'v3'])\n",
    "print (df2)"
   ]
  },
  {
   "cell_type": "markdown",
   "metadata": {},
   "source": [
    "Создание из двумерного массива"
   ]
  },
  {
   "cell_type": "code",
   "execution_count": 28,
   "metadata": {},
   "outputs": [
    {
     "name": "stdout",
     "output_type": "stream",
     "text": [
      "     a   b   c\n",
      "a1   1   2   3\n",
      "a2  10  20  30\n"
     ]
    }
   ],
   "source": [
    "nda1 = np.array([[1, 2, 3], [10, 20, 30]])\n",
    "df3 = pd.DataFrame(nda1, columns = ['a','b','c'], index = ['a1','a2'])\n",
    "print (df3)"
   ]
  },
  {
   "cell_type": "markdown",
   "metadata": {},
   "source": [
    "#### Работа с DataFrame"
   ]
  },
  {
   "cell_type": "markdown",
   "metadata": {},
   "source": [
    "Выбор столбца"
   ]
  },
  {
   "cell_type": "code",
   "execution_count": 20,
   "metadata": {},
   "outputs": [
    {
     "name": "stdout",
     "output_type": "stream",
     "text": [
      "a1     1\n",
      "a2    10\n",
      "Name: a, dtype: int32\n"
     ]
    }
   ],
   "source": [
    "print (df3['a'])"
   ]
  },
  {
   "cell_type": "markdown",
   "metadata": {},
   "source": [
    "Выбор строки по индексу"
   ]
  },
  {
   "cell_type": "code",
   "execution_count": 22,
   "metadata": {},
   "outputs": [
    {
     "name": "stdout",
     "output_type": "stream",
     "text": [
      "a    1\n",
      "b    2\n",
      "c    3\n",
      "Name: a1, dtype: int32\n"
     ]
    }
   ],
   "source": [
    "print (df3.loc['a1'])"
   ]
  },
  {
   "cell_type": "markdown",
   "metadata": {},
   "source": [
    "Выбор строки по номеру"
   ]
  },
  {
   "cell_type": "code",
   "execution_count": 23,
   "metadata": {},
   "outputs": [
    {
     "name": "stdout",
     "output_type": "stream",
     "text": [
      "a    10\n",
      "b    20\n",
      "c    30\n",
      "Name: a2, dtype: int32\n"
     ]
    }
   ],
   "source": [
    "print (df3.iloc[1])"
   ]
  },
  {
   "cell_type": "markdown",
   "metadata": {},
   "source": [
    "Добавление нового столбца"
   ]
  },
  {
   "cell_type": "code",
   "execution_count": 29,
   "metadata": {},
   "outputs": [
    {
     "name": "stdout",
     "output_type": "stream",
     "text": [
      "     a   b   c  d\n",
      "a1   1   2   3  5\n",
      "a2  10  20  30  6\n"
     ]
    }
   ],
   "source": [
    "df3['d'] =[5,6]\n",
    "print (df3)"
   ]
  },
  {
   "cell_type": "markdown",
   "metadata": {},
   "source": [
    "Выбор нескольких стоблцов"
   ]
  },
  {
   "cell_type": "code",
   "execution_count": 30,
   "metadata": {},
   "outputs": [
    {
     "name": "stdout",
     "output_type": "stream",
     "text": [
      "     a   b\n",
      "a1   1   2\n",
      "a2  10  20\n"
     ]
    }
   ],
   "source": [
    "df_slice = df3[['a','b']]\n",
    "print (df_slice)"
   ]
  },
  {
   "cell_type": "markdown",
   "metadata": {},
   "source": [
    "Удаление столбца"
   ]
  },
  {
   "cell_type": "code",
   "execution_count": 32,
   "metadata": {},
   "outputs": [
    {
     "name": "stdout",
     "output_type": "stream",
     "text": [
      "     b   c  d\n",
      "a1   2   3  5\n",
      "a2  20  30  6\n"
     ]
    }
   ],
   "source": [
    "df_new = df3.drop(['a'], axis = 1)\n",
    "print (df_new)"
   ]
  },
  {
   "cell_type": "markdown",
   "metadata": {},
   "source": [
    "Здесь первым аргументом идет список удаляемых элементов, потом указывается что удаляется 1- столбец, 0- строка. Если не указывать значение аргумента inplace, то в исходном DataFrame ничего не измениться\n"
   ]
  },
  {
   "cell_type": "code",
   "execution_count": 33,
   "metadata": {},
   "outputs": [
    {
     "name": "stdout",
     "output_type": "stream",
     "text": [
      "     a   b   c  d\n",
      "a1   1   2   3  5\n",
      "a2  10  20  30  6\n"
     ]
    }
   ],
   "source": [
    "print(df3)"
   ]
  },
  {
   "cell_type": "markdown",
   "metadata": {},
   "source": [
    "Укажем inplace = True"
   ]
  },
  {
   "cell_type": "code",
   "execution_count": 34,
   "metadata": {},
   "outputs": [
    {
     "name": "stdout",
     "output_type": "stream",
     "text": [
      "     b   c  d\n",
      "a1   2   3  5\n",
      "a2  20  30  6\n"
     ]
    }
   ],
   "source": [
    "df3.drop(['a'], axis = 1, inplace = True)\n",
    "print (df3)"
   ]
  },
  {
   "cell_type": "markdown",
   "metadata": {},
   "source": [
    "## Задание 1"
   ]
  },
  {
   "cell_type": "markdown",
   "metadata": {},
   "source": [
    "Считайте данные с помощью load_boston()"
   ]
  },
  {
   "cell_type": "code",
   "execution_count": 52,
   "metadata": {},
   "outputs": [],
   "source": [
    "boston = load_boston()"
   ]
  },
  {
   "cell_type": "markdown",
   "metadata": {},
   "source": [
    "В поле data содержаться параметры модели, в поле feature_names содержаться имена полей данных, в поле target содержится целевая переменная. \n",
    "Рассмотрите тип скачанных данных и создайте DatаFrame с именем df из данных load_boston"
   ]
  },
  {
   "cell_type": "code",
   "execution_count": 53,
   "metadata": {},
   "outputs": [
    {
     "name": "stdout",
     "output_type": "stream",
     "text": [
      "        CRIM    ZN  INDUS  CHAS    NOX     RM   AGE     DIS  RAD    TAX  \\\n",
      "0    0.00632  18.0   2.31   0.0  0.538  6.575  65.2  4.0900  1.0  296.0   \n",
      "1    0.02731   0.0   7.07   0.0  0.469  6.421  78.9  4.9671  2.0  242.0   \n",
      "2    0.02729   0.0   7.07   0.0  0.469  7.185  61.1  4.9671  2.0  242.0   \n",
      "3    0.03237   0.0   2.18   0.0  0.458  6.998  45.8  6.0622  3.0  222.0   \n",
      "4    0.06905   0.0   2.18   0.0  0.458  7.147  54.2  6.0622  3.0  222.0   \n",
      "..       ...   ...    ...   ...    ...    ...   ...     ...  ...    ...   \n",
      "501  0.06263   0.0  11.93   0.0  0.573  6.593  69.1  2.4786  1.0  273.0   \n",
      "502  0.04527   0.0  11.93   0.0  0.573  6.120  76.7  2.2875  1.0  273.0   \n",
      "503  0.06076   0.0  11.93   0.0  0.573  6.976  91.0  2.1675  1.0  273.0   \n",
      "504  0.10959   0.0  11.93   0.0  0.573  6.794  89.3  2.3889  1.0  273.0   \n",
      "505  0.04741   0.0  11.93   0.0  0.573  6.030  80.8  2.5050  1.0  273.0   \n",
      "\n",
      "     PTRATIO       B  LSTAT  TARGET  \n",
      "0       15.3  396.90   4.98    24.0  \n",
      "1       17.8  396.90   9.14    21.6  \n",
      "2       17.8  392.83   4.03    34.7  \n",
      "3       18.7  394.63   2.94    33.4  \n",
      "4       18.7  396.90   5.33    36.2  \n",
      "..       ...     ...    ...     ...  \n",
      "501     21.0  391.99   9.67    22.4  \n",
      "502     21.0  396.90   9.08    20.6  \n",
      "503     21.0  396.90   5.64    23.9  \n",
      "504     21.0  393.45   6.48    22.0  \n",
      "505     21.0  396.90   7.88    11.9  \n",
      "\n",
      "[506 rows x 14 columns]\n"
     ]
    }
   ],
   "source": [
    "df = pd.DataFrame(boston.data, columns = boston.feature_names)\n",
    "df['TARGET'] = boston.target\n",
    "print(df)\n"
   ]
  },
  {
   "cell_type": "markdown",
   "metadata": {},
   "source": [
    "Выведите первые 10 строк полученного DataFrame с помощью функции head()"
   ]
  },
  {
   "cell_type": "code",
   "execution_count": 54,
   "metadata": {},
   "outputs": [
    {
     "data": {
      "text/html": [
       "<div>\n",
       "<style scoped>\n",
       "    .dataframe tbody tr th:only-of-type {\n",
       "        vertical-align: middle;\n",
       "    }\n",
       "\n",
       "    .dataframe tbody tr th {\n",
       "        vertical-align: top;\n",
       "    }\n",
       "\n",
       "    .dataframe thead th {\n",
       "        text-align: right;\n",
       "    }\n",
       "</style>\n",
       "<table border=\"1\" class=\"dataframe\">\n",
       "  <thead>\n",
       "    <tr style=\"text-align: right;\">\n",
       "      <th></th>\n",
       "      <th>CRIM</th>\n",
       "      <th>ZN</th>\n",
       "      <th>INDUS</th>\n",
       "      <th>CHAS</th>\n",
       "      <th>NOX</th>\n",
       "      <th>RM</th>\n",
       "      <th>AGE</th>\n",
       "      <th>DIS</th>\n",
       "      <th>RAD</th>\n",
       "      <th>TAX</th>\n",
       "      <th>PTRATIO</th>\n",
       "      <th>B</th>\n",
       "      <th>LSTAT</th>\n",
       "      <th>TARGET</th>\n",
       "    </tr>\n",
       "  </thead>\n",
       "  <tbody>\n",
       "    <tr>\n",
       "      <td>0</td>\n",
       "      <td>0.00632</td>\n",
       "      <td>18.0</td>\n",
       "      <td>2.31</td>\n",
       "      <td>0.0</td>\n",
       "      <td>0.538</td>\n",
       "      <td>6.575</td>\n",
       "      <td>65.2</td>\n",
       "      <td>4.0900</td>\n",
       "      <td>1.0</td>\n",
       "      <td>296.0</td>\n",
       "      <td>15.3</td>\n",
       "      <td>396.90</td>\n",
       "      <td>4.98</td>\n",
       "      <td>24.0</td>\n",
       "    </tr>\n",
       "    <tr>\n",
       "      <td>1</td>\n",
       "      <td>0.02731</td>\n",
       "      <td>0.0</td>\n",
       "      <td>7.07</td>\n",
       "      <td>0.0</td>\n",
       "      <td>0.469</td>\n",
       "      <td>6.421</td>\n",
       "      <td>78.9</td>\n",
       "      <td>4.9671</td>\n",
       "      <td>2.0</td>\n",
       "      <td>242.0</td>\n",
       "      <td>17.8</td>\n",
       "      <td>396.90</td>\n",
       "      <td>9.14</td>\n",
       "      <td>21.6</td>\n",
       "    </tr>\n",
       "    <tr>\n",
       "      <td>2</td>\n",
       "      <td>0.02729</td>\n",
       "      <td>0.0</td>\n",
       "      <td>7.07</td>\n",
       "      <td>0.0</td>\n",
       "      <td>0.469</td>\n",
       "      <td>7.185</td>\n",
       "      <td>61.1</td>\n",
       "      <td>4.9671</td>\n",
       "      <td>2.0</td>\n",
       "      <td>242.0</td>\n",
       "      <td>17.8</td>\n",
       "      <td>392.83</td>\n",
       "      <td>4.03</td>\n",
       "      <td>34.7</td>\n",
       "    </tr>\n",
       "    <tr>\n",
       "      <td>3</td>\n",
       "      <td>0.03237</td>\n",
       "      <td>0.0</td>\n",
       "      <td>2.18</td>\n",
       "      <td>0.0</td>\n",
       "      <td>0.458</td>\n",
       "      <td>6.998</td>\n",
       "      <td>45.8</td>\n",
       "      <td>6.0622</td>\n",
       "      <td>3.0</td>\n",
       "      <td>222.0</td>\n",
       "      <td>18.7</td>\n",
       "      <td>394.63</td>\n",
       "      <td>2.94</td>\n",
       "      <td>33.4</td>\n",
       "    </tr>\n",
       "    <tr>\n",
       "      <td>4</td>\n",
       "      <td>0.06905</td>\n",
       "      <td>0.0</td>\n",
       "      <td>2.18</td>\n",
       "      <td>0.0</td>\n",
       "      <td>0.458</td>\n",
       "      <td>7.147</td>\n",
       "      <td>54.2</td>\n",
       "      <td>6.0622</td>\n",
       "      <td>3.0</td>\n",
       "      <td>222.0</td>\n",
       "      <td>18.7</td>\n",
       "      <td>396.90</td>\n",
       "      <td>5.33</td>\n",
       "      <td>36.2</td>\n",
       "    </tr>\n",
       "    <tr>\n",
       "      <td>5</td>\n",
       "      <td>0.02985</td>\n",
       "      <td>0.0</td>\n",
       "      <td>2.18</td>\n",
       "      <td>0.0</td>\n",
       "      <td>0.458</td>\n",
       "      <td>6.430</td>\n",
       "      <td>58.7</td>\n",
       "      <td>6.0622</td>\n",
       "      <td>3.0</td>\n",
       "      <td>222.0</td>\n",
       "      <td>18.7</td>\n",
       "      <td>394.12</td>\n",
       "      <td>5.21</td>\n",
       "      <td>28.7</td>\n",
       "    </tr>\n",
       "    <tr>\n",
       "      <td>6</td>\n",
       "      <td>0.08829</td>\n",
       "      <td>12.5</td>\n",
       "      <td>7.87</td>\n",
       "      <td>0.0</td>\n",
       "      <td>0.524</td>\n",
       "      <td>6.012</td>\n",
       "      <td>66.6</td>\n",
       "      <td>5.5605</td>\n",
       "      <td>5.0</td>\n",
       "      <td>311.0</td>\n",
       "      <td>15.2</td>\n",
       "      <td>395.60</td>\n",
       "      <td>12.43</td>\n",
       "      <td>22.9</td>\n",
       "    </tr>\n",
       "    <tr>\n",
       "      <td>7</td>\n",
       "      <td>0.14455</td>\n",
       "      <td>12.5</td>\n",
       "      <td>7.87</td>\n",
       "      <td>0.0</td>\n",
       "      <td>0.524</td>\n",
       "      <td>6.172</td>\n",
       "      <td>96.1</td>\n",
       "      <td>5.9505</td>\n",
       "      <td>5.0</td>\n",
       "      <td>311.0</td>\n",
       "      <td>15.2</td>\n",
       "      <td>396.90</td>\n",
       "      <td>19.15</td>\n",
       "      <td>27.1</td>\n",
       "    </tr>\n",
       "    <tr>\n",
       "      <td>8</td>\n",
       "      <td>0.21124</td>\n",
       "      <td>12.5</td>\n",
       "      <td>7.87</td>\n",
       "      <td>0.0</td>\n",
       "      <td>0.524</td>\n",
       "      <td>5.631</td>\n",
       "      <td>100.0</td>\n",
       "      <td>6.0821</td>\n",
       "      <td>5.0</td>\n",
       "      <td>311.0</td>\n",
       "      <td>15.2</td>\n",
       "      <td>386.63</td>\n",
       "      <td>29.93</td>\n",
       "      <td>16.5</td>\n",
       "    </tr>\n",
       "    <tr>\n",
       "      <td>9</td>\n",
       "      <td>0.17004</td>\n",
       "      <td>12.5</td>\n",
       "      <td>7.87</td>\n",
       "      <td>0.0</td>\n",
       "      <td>0.524</td>\n",
       "      <td>6.004</td>\n",
       "      <td>85.9</td>\n",
       "      <td>6.5921</td>\n",
       "      <td>5.0</td>\n",
       "      <td>311.0</td>\n",
       "      <td>15.2</td>\n",
       "      <td>386.71</td>\n",
       "      <td>17.10</td>\n",
       "      <td>18.9</td>\n",
       "    </tr>\n",
       "  </tbody>\n",
       "</table>\n",
       "</div>"
      ],
      "text/plain": [
       "      CRIM    ZN  INDUS  CHAS    NOX     RM    AGE     DIS  RAD    TAX  \\\n",
       "0  0.00632  18.0   2.31   0.0  0.538  6.575   65.2  4.0900  1.0  296.0   \n",
       "1  0.02731   0.0   7.07   0.0  0.469  6.421   78.9  4.9671  2.0  242.0   \n",
       "2  0.02729   0.0   7.07   0.0  0.469  7.185   61.1  4.9671  2.0  242.0   \n",
       "3  0.03237   0.0   2.18   0.0  0.458  6.998   45.8  6.0622  3.0  222.0   \n",
       "4  0.06905   0.0   2.18   0.0  0.458  7.147   54.2  6.0622  3.0  222.0   \n",
       "5  0.02985   0.0   2.18   0.0  0.458  6.430   58.7  6.0622  3.0  222.0   \n",
       "6  0.08829  12.5   7.87   0.0  0.524  6.012   66.6  5.5605  5.0  311.0   \n",
       "7  0.14455  12.5   7.87   0.0  0.524  6.172   96.1  5.9505  5.0  311.0   \n",
       "8  0.21124  12.5   7.87   0.0  0.524  5.631  100.0  6.0821  5.0  311.0   \n",
       "9  0.17004  12.5   7.87   0.0  0.524  6.004   85.9  6.5921  5.0  311.0   \n",
       "\n",
       "   PTRATIO       B  LSTAT  TARGET  \n",
       "0     15.3  396.90   4.98    24.0  \n",
       "1     17.8  396.90   9.14    21.6  \n",
       "2     17.8  392.83   4.03    34.7  \n",
       "3     18.7  394.63   2.94    33.4  \n",
       "4     18.7  396.90   5.33    36.2  \n",
       "5     18.7  394.12   5.21    28.7  \n",
       "6     15.2  395.60  12.43    22.9  \n",
       "7     15.2  396.90  19.15    27.1  \n",
       "8     15.2  386.63  29.93    16.5  \n",
       "9     15.2  386.71  17.10    18.9  "
      ]
     },
     "execution_count": 54,
     "metadata": {},
     "output_type": "execute_result"
    }
   ],
   "source": [
    "df.head(10)"
   ]
  },
  {
   "cell_type": "markdown",
   "metadata": {},
   "source": [
    "Выделите из полученного DataFrame параметры модели в переменную X, а целевую переменную в Y"
   ]
  },
  {
   "cell_type": "code",
   "execution_count": 55,
   "metadata": {},
   "outputs": [
    {
     "name": "stdout",
     "output_type": "stream",
     "text": [
      "        CRIM    ZN  INDUS  CHAS    NOX     RM   AGE     DIS  RAD    TAX  \\\n",
      "0    0.00632  18.0   2.31   0.0  0.538  6.575  65.2  4.0900  1.0  296.0   \n",
      "1    0.02731   0.0   7.07   0.0  0.469  6.421  78.9  4.9671  2.0  242.0   \n",
      "2    0.02729   0.0   7.07   0.0  0.469  7.185  61.1  4.9671  2.0  242.0   \n",
      "3    0.03237   0.0   2.18   0.0  0.458  6.998  45.8  6.0622  3.0  222.0   \n",
      "4    0.06905   0.0   2.18   0.0  0.458  7.147  54.2  6.0622  3.0  222.0   \n",
      "..       ...   ...    ...   ...    ...    ...   ...     ...  ...    ...   \n",
      "501  0.06263   0.0  11.93   0.0  0.573  6.593  69.1  2.4786  1.0  273.0   \n",
      "502  0.04527   0.0  11.93   0.0  0.573  6.120  76.7  2.2875  1.0  273.0   \n",
      "503  0.06076   0.0  11.93   0.0  0.573  6.976  91.0  2.1675  1.0  273.0   \n",
      "504  0.10959   0.0  11.93   0.0  0.573  6.794  89.3  2.3889  1.0  273.0   \n",
      "505  0.04741   0.0  11.93   0.0  0.573  6.030  80.8  2.5050  1.0  273.0   \n",
      "\n",
      "     PTRATIO       B  LSTAT  \n",
      "0       15.3  396.90   4.98  \n",
      "1       17.8  396.90   9.14  \n",
      "2       17.8  392.83   4.03  \n",
      "3       18.7  394.63   2.94  \n",
      "4       18.7  396.90   5.33  \n",
      "..       ...     ...    ...  \n",
      "501     21.0  391.99   9.67  \n",
      "502     21.0  396.90   9.08  \n",
      "503     21.0  396.90   5.64  \n",
      "504     21.0  393.45   6.48  \n",
      "505     21.0  396.90   7.88  \n",
      "\n",
      "[506 rows x 13 columns]\n",
      "     TARGET\n",
      "0      24.0\n",
      "1      21.6\n",
      "2      34.7\n",
      "3      33.4\n",
      "4      36.2\n",
      "..      ...\n",
      "501    22.4\n",
      "502    20.6\n",
      "503    23.9\n",
      "504    22.0\n",
      "505    11.9\n",
      "\n",
      "[506 rows x 1 columns]\n"
     ]
    }
   ],
   "source": [
    "# df_X = pd.DataFrame(boston.data, columns = boston.feature_names)\n",
    "# df_Y = pd.DataFrame(boston.target, columns = 'TARGET')\n",
    "\n",
    "X = df[['CRIM', 'ZN',  'INDUS', 'CHAS', 'NOX', 'RM', 'AGE', 'DIS', 'RAD', 'TAX', 'PTRATIO', 'B', 'LSTAT']]\n",
    "Y =df[['TARGET']]\n",
    "print(X)\n",
    "print(Y)"
   ]
  },
  {
   "cell_type": "markdown",
   "metadata": {},
   "source": [
    "Выделите первые 300 записей выборки в обучающую часть, а оставшиеся в тестовую"
   ]
  },
  {
   "cell_type": "code",
   "execution_count": 57,
   "metadata": {},
   "outputs": [
    {
     "name": "stdout",
     "output_type": "stream",
     "text": [
      "x_train = \n",
      "         CRIM    ZN  INDUS  CHAS    NOX     RM   AGE     DIS  RAD    TAX  \\\n",
      "0    0.00632  18.0   2.31   0.0  0.538  6.575  65.2  4.0900  1.0  296.0   \n",
      "1    0.02731   0.0   7.07   0.0  0.469  6.421  78.9  4.9671  2.0  242.0   \n",
      "2    0.02729   0.0   7.07   0.0  0.469  7.185  61.1  4.9671  2.0  242.0   \n",
      "3    0.03237   0.0   2.18   0.0  0.458  6.998  45.8  6.0622  3.0  222.0   \n",
      "4    0.06905   0.0   2.18   0.0  0.458  7.147  54.2  6.0622  3.0  222.0   \n",
      "..       ...   ...    ...   ...    ...    ...   ...     ...  ...    ...   \n",
      "295  0.12932   0.0  13.92   0.0  0.437  6.678  31.1  5.9604  4.0  289.0   \n",
      "296  0.05372   0.0  13.92   0.0  0.437  6.549  51.0  5.9604  4.0  289.0   \n",
      "297  0.14103   0.0  13.92   0.0  0.437  5.790  58.0  6.3200  4.0  289.0   \n",
      "298  0.06466  70.0   2.24   0.0  0.400  6.345  20.1  7.8278  5.0  358.0   \n",
      "299  0.05561  70.0   2.24   0.0  0.400  7.041  10.0  7.8278  5.0  358.0   \n",
      "\n",
      "     PTRATIO       B  LSTAT  \n",
      "0       15.3  396.90   4.98  \n",
      "1       17.8  396.90   9.14  \n",
      "2       17.8  392.83   4.03  \n",
      "3       18.7  394.63   2.94  \n",
      "4       18.7  396.90   5.33  \n",
      "..       ...     ...    ...  \n",
      "295     16.0  396.90   6.27  \n",
      "296     16.0  392.85   7.39  \n",
      "297     16.0  396.90  15.84  \n",
      "298     14.8  368.24   4.97  \n",
      "299     14.8  371.58   4.74  \n",
      "\n",
      "[300 rows x 13 columns]\n",
      "x_test = \n",
      "         CRIM    ZN  INDUS  CHAS    NOX     RM   AGE     DIS  RAD    TAX  \\\n",
      "300  0.04417  70.0   2.24   0.0  0.400  6.871  47.4  7.8278  5.0  358.0   \n",
      "301  0.03537  34.0   6.09   0.0  0.433  6.590  40.4  5.4917  7.0  329.0   \n",
      "302  0.09266  34.0   6.09   0.0  0.433  6.495  18.4  5.4917  7.0  329.0   \n",
      "303  0.10000  34.0   6.09   0.0  0.433  6.982  17.7  5.4917  7.0  329.0   \n",
      "304  0.05515  33.0   2.18   0.0  0.472  7.236  41.1  4.0220  7.0  222.0   \n",
      "..       ...   ...    ...   ...    ...    ...   ...     ...  ...    ...   \n",
      "501  0.06263   0.0  11.93   0.0  0.573  6.593  69.1  2.4786  1.0  273.0   \n",
      "502  0.04527   0.0  11.93   0.0  0.573  6.120  76.7  2.2875  1.0  273.0   \n",
      "503  0.06076   0.0  11.93   0.0  0.573  6.976  91.0  2.1675  1.0  273.0   \n",
      "504  0.10959   0.0  11.93   0.0  0.573  6.794  89.3  2.3889  1.0  273.0   \n",
      "505  0.04741   0.0  11.93   0.0  0.573  6.030  80.8  2.5050  1.0  273.0   \n",
      "\n",
      "     PTRATIO       B  LSTAT  \n",
      "300     14.8  390.86   6.07  \n",
      "301     16.1  395.75   9.50  \n",
      "302     16.1  383.61   8.67  \n",
      "303     16.1  390.43   4.86  \n",
      "304     18.4  393.68   6.93  \n",
      "..       ...     ...    ...  \n",
      "501     21.0  391.99   9.67  \n",
      "502     21.0  396.90   9.08  \n",
      "503     21.0  396.90   5.64  \n",
      "504     21.0  393.45   6.48  \n",
      "505     21.0  396.90   7.88  \n",
      "\n",
      "[206 rows x 13 columns]\n",
      "y_train = \n",
      "      TARGET\n",
      "0      24.0\n",
      "1      21.6\n",
      "2      34.7\n",
      "3      33.4\n",
      "4      36.2\n",
      "..      ...\n",
      "295    28.6\n",
      "296    27.1\n",
      "297    20.3\n",
      "298    22.5\n",
      "299    29.0\n",
      "\n",
      "[300 rows x 1 columns]\n",
      "y_test = \n",
      "      TARGET\n",
      "300    24.8\n",
      "301    22.0\n",
      "302    26.4\n",
      "303    33.1\n",
      "304    36.1\n",
      "..      ...\n",
      "501    22.4\n",
      "502    20.6\n",
      "503    23.9\n",
      "504    22.0\n",
      "505    11.9\n",
      "\n",
      "[206 rows x 1 columns]\n"
     ]
    }
   ],
   "source": [
    "x_train = X[:300]\n",
    "x_test = X[300:] \n",
    "y_train = Y[:300]\n",
    "y_test = Y[300:]\n",
    "print(\"x_train = \\n\", x_train)\n",
    "print(\"x_test = \\n\", x_test)\n",
    "print(\"y_train = \\n\", y_train)\n",
    "print(\"y_test = \\n\", y_test)"
   ]
  },
  {
   "cell_type": "markdown",
   "metadata": {},
   "source": [
    "### Регрессия"
   ]
  },
  {
   "cell_type": "markdown",
   "metadata": {},
   "source": [
    "Принципы и задачи регрессии изложены в лекции. \n",
    "Построение модели регрессии заключается в вычислении весов регрессии. \n",
    "Для построения модели используется классы регрессоров из библиотеки SKLearn\n",
    "В этой работе мы будем использовать линейный регрессор, подробная информация о нем представлена здесь https://scikit-learn.org/stable/modules/generated/sklearn.linear_model.LinearRegression.html\n",
    "\n",
    "\n"
   ]
  },
  {
   "cell_type": "markdown",
   "metadata": {},
   "source": [
    "**Алгоритм работы с регрессорами:**\n",
    "* создаем экземпляр класса регрессора\n",
    "* обучаем его на обучающей части выборки с помощью метода fit()\n",
    "* получаем веса модели с помощью метода coef_\n",
    "* оцениваем качество модели с помощью бибилиотеки metrics\n"
   ]
  },
  {
   "cell_type": "markdown",
   "metadata": {},
   "source": [
    "## Задание 2"
   ]
  },
  {
   "cell_type": "markdown",
   "metadata": {},
   "source": [
    "Создайте экземпляр класса LinearRegression() и обучите его на обучающей части выборки."
   ]
  },
  {
   "cell_type": "code",
   "execution_count": 67,
   "metadata": {},
   "outputs": [
    {
     "data": {
      "text/plain": [
       "LinearRegression(copy_X=True, fit_intercept=True, n_jobs=None, normalize=False)"
      ]
     },
     "execution_count": 67,
     "metadata": {},
     "output_type": "execute_result"
    }
   ],
   "source": [
    "regressor = LinearRegression()\n",
    "regressor.fit(x_train, y_train)"
   ]
  },
  {
   "cell_type": "markdown",
   "metadata": {},
   "source": [
    "Получите веса модели и выведите их на печать"
   ]
  },
  {
   "cell_type": "code",
   "execution_count": 68,
   "metadata": {},
   "outputs": [
    {
     "data": {
      "text/plain": [
       "array([[ 1.20125417,  0.01484179,  0.02355189,  0.60206504, -8.82764179,\n",
       "         9.1306223 , -0.04735918, -1.01328587,  0.16786579, -0.01456734,\n",
       "        -0.64183404,  0.01677883, -0.10976398]])"
      ]
     },
     "execution_count": 68,
     "metadata": {},
     "output_type": "execute_result"
    }
   ],
   "source": [
    "regressor.coef_"
   ]
  },
  {
   "cell_type": "markdown",
   "metadata": {},
   "source": [
    "Получите значения цены на недвижимость, используя тестовую часть выборки с помощью метода predict(). Этот метод в качестве едиственного аргумента принимает параметры модели, на которых делается расчет значений модели."
   ]
  },
  {
   "cell_type": "code",
   "execution_count": 71,
   "metadata": {},
   "outputs": [
    {
     "data": {
      "text/plain": [
       "array([[ 29.79108248],\n",
       "       [ 28.80787418],\n",
       "       [ 28.9385959 ],\n",
       "       [ 33.95980998],\n",
       "       [ 36.06473243],\n",
       "       [ 30.03397333],\n",
       "       [ 37.34956465],\n",
       "       [ 31.97991057],\n",
       "       [ 27.53105913],\n",
       "       [ 21.19042774],\n",
       "       [ 16.18684563],\n",
       "       [ 25.13904357],\n",
       "       [ 20.98289376],\n",
       "       [ 23.50677739],\n",
       "       [ 25.70499407],\n",
       "       [ 17.57145217],\n",
       "       [ 18.3970349 ],\n",
       "       [ 17.98149659],\n",
       "       [ 24.951302  ],\n",
       "       [ 22.26255121],\n",
       "       [ 25.16719139],\n",
       "       [ 24.66896958],\n",
       "       [ 21.74805928],\n",
       "       [ 16.93098947],\n",
       "       [ 25.78838644],\n",
       "       [ 26.31423203],\n",
       "       [ 24.62584001],\n",
       "       [ 21.03017255],\n",
       "       [ 19.65141755],\n",
       "       [ 24.47309949],\n",
       "       [ 21.03958307],\n",
       "       [ 18.62206487],\n",
       "       [ 21.78419616],\n",
       "       [ 23.08462718],\n",
       "       [ 22.87209402],\n",
       "       [ 21.03847382],\n",
       "       [ 19.50701896],\n",
       "       [ 18.6024124 ],\n",
       "       [ 22.21992535],\n",
       "       [ 21.06471166],\n",
       "       [ 20.34633584],\n",
       "       [ 33.02121376],\n",
       "       [ 23.04800162],\n",
       "       [ 26.94770651],\n",
       "       [ 29.30851627],\n",
       "       [ 16.95826468],\n",
       "       [ 15.16802008],\n",
       "       [ 24.68573236],\n",
       "       [ 27.31693513],\n",
       "       [ 25.82438955],\n",
       "       [ 21.40408183],\n",
       "       [ 21.07312976],\n",
       "       [ 15.65204281],\n",
       "       [ 25.97952346],\n",
       "       [ 12.40687692],\n",
       "       [ 15.24836432],\n",
       "       [ 28.34657182],\n",
       "       [ 24.46977391],\n",
       "       [ 24.05158988],\n",
       "       [ 22.28941428],\n",
       "       [ 25.17549549],\n",
       "       [ 21.96148768],\n",
       "       [ 14.5515092 ],\n",
       "       [ 19.42233148],\n",
       "       [ 47.5050814 ],\n",
       "       [  0.40978875],\n",
       "       [ 10.46842116],\n",
       "       [  9.80898775],\n",
       "       [ 14.93849732],\n",
       "       [ 32.18064909],\n",
       "       [ 36.75303085],\n",
       "       [ 30.8417175 ],\n",
       "       [ 27.1417048 ],\n",
       "       [ 18.5476307 ],\n",
       "       [ 20.09915072],\n",
       "       [ 53.00714933],\n",
       "       [ 40.29839513],\n",
       "       [ 35.57231524],\n",
       "       [ 48.22496693],\n",
       "       [ 39.82307145],\n",
       "       [132.95341645],\n",
       "       [ 40.40748396],\n",
       "       [ 22.52419975],\n",
       "       [ 20.88571864],\n",
       "       [ 22.8750237 ],\n",
       "       [ 28.77360152],\n",
       "       [ 32.32094608],\n",
       "       [ 33.37827605],\n",
       "       [ 21.5348619 ],\n",
       "       [ 20.15177818],\n",
       "       [ 21.92998931],\n",
       "       [ 23.00291768],\n",
       "       [ 20.55259263],\n",
       "       [ 28.99558759],\n",
       "       [ 31.64582376],\n",
       "       [ 31.09653058],\n",
       "       [ 27.09444006],\n",
       "       [ 23.03121729],\n",
       "       [ 56.18722136],\n",
       "       [ 25.79527228],\n",
       "       [ 45.39822648],\n",
       "       [ 36.38616352],\n",
       "       [ 30.95522696],\n",
       "       [ 40.12157289],\n",
       "       [ 60.50913168],\n",
       "       [ 94.50733439],\n",
       "       [ 23.95952291],\n",
       "       [ 27.33457912],\n",
       "       [ 20.57029327],\n",
       "       [ 38.64312539],\n",
       "       [ 70.87690751],\n",
       "       [ 33.75481066],\n",
       "       [ 19.3719257 ],\n",
       "       [ 40.59919411],\n",
       "       [ 50.49097077],\n",
       "       [ 34.53894621],\n",
       "       [ 29.7204627 ],\n",
       "       [ 36.30855809],\n",
       "       [ 97.5692079 ],\n",
       "       [ 32.42348771],\n",
       "       [ 31.98574511],\n",
       "       [ 23.55765112],\n",
       "       [ 27.22964616],\n",
       "       [ 19.56901812],\n",
       "       [ 18.35006429],\n",
       "       [ 27.27981723],\n",
       "       [ 26.08072193],\n",
       "       [ 58.37155595],\n",
       "       [ 22.39127819],\n",
       "       [ 24.72029322],\n",
       "       [ 25.70211771],\n",
       "       [ 31.3317386 ],\n",
       "       [ 25.18947637],\n",
       "       [ 21.9548242 ],\n",
       "       [ 29.76351673],\n",
       "       [ 29.44546134],\n",
       "       [ 31.20443829],\n",
       "       [ 27.83708383],\n",
       "       [ 24.89243679],\n",
       "       [ 23.37454302],\n",
       "       [ 40.34139565],\n",
       "       [ 30.6657438 ],\n",
       "       [ 24.49721818],\n",
       "       [ 31.71990667],\n",
       "       [ 26.61440657],\n",
       "       [ 26.23687774],\n",
       "       [ 25.02527752],\n",
       "       [ 29.76632969],\n",
       "       [ 28.47760201],\n",
       "       [ 26.84175885],\n",
       "       [ 24.13800865],\n",
       "       [ 27.37315271],\n",
       "       [ 24.52321243],\n",
       "       [ 37.78649662],\n",
       "       [ 27.02634668],\n",
       "       [ 20.6803365 ],\n",
       "       [ 14.57911712],\n",
       "       [ 18.725208  ],\n",
       "       [ 25.94090249],\n",
       "       [ 25.0831125 ],\n",
       "       [ 25.64528732],\n",
       "       [ 23.91974551],\n",
       "       [ 27.18936669],\n",
       "       [ 27.93697574],\n",
       "       [ 28.82402547],\n",
       "       [ 18.66006308],\n",
       "       [ 14.05264982],\n",
       "       [ 20.52576801],\n",
       "       [ 34.97457749],\n",
       "       [ 31.63135686],\n",
       "       [ 23.62081262],\n",
       "       [ 24.20276074],\n",
       "       [ 25.86653688],\n",
       "       [ 32.52118424],\n",
       "       [ 20.40691424],\n",
       "       [ 23.76257261],\n",
       "       [ 26.85209156],\n",
       "       [ 26.83726245],\n",
       "       [ 30.34677337],\n",
       "       [ 36.90952031],\n",
       "       [ 27.62868036],\n",
       "       [ 32.00358955],\n",
       "       [ 34.8086243 ],\n",
       "       [ 20.07630874],\n",
       "       [ 19.70367834],\n",
       "       [ 25.14430054],\n",
       "       [ 24.47622668],\n",
       "       [ 23.51077365],\n",
       "       [  8.68220625],\n",
       "       [  6.65209622],\n",
       "       [  2.6395936 ],\n",
       "       [ 13.03673055],\n",
       "       [ 14.1550307 ],\n",
       "       [ 18.33989587],\n",
       "       [ 20.83361497],\n",
       "       [ 18.10574616],\n",
       "       [ 13.26551   ],\n",
       "       [ 17.7151051 ],\n",
       "       [ 20.6048966 ],\n",
       "       [ 15.78522312],\n",
       "       [ 19.73321195],\n",
       "       [ 25.54082888],\n",
       "       [ 21.18204475],\n",
       "       [ 28.83841101],\n",
       "       [ 26.94137539],\n",
       "       [ 20.0800139 ]])"
      ]
     },
     "execution_count": 71,
     "metadata": {},
     "output_type": "execute_result"
    }
   ],
   "source": [
    "a = reg.predict(x_test)\n",
    "a"
   ]
  },
  {
   "cell_type": "markdown",
   "metadata": {},
   "source": [
    "Оцените полученную модель, рассчитав среднюю квадратичную ошибку, среднюю абсолютную ошибку и R2. Все эти величины рассчитываются соответствующими методами в классе metrics. Все они принимают 2 аргумента: 1 - истинные значения (для этого используем данные из тестовой выборки) и 2- предсказанные значения"
   ]
  },
  {
   "cell_type": "code",
   "execution_count": 74,
   "metadata": {},
   "outputs": [
    {
     "name": "stdout",
     "output_type": "stream",
     "text": [
      "mean_squared_error =  366.06553408770935\n",
      "mean_absolute_error = 11.457601062614257\n",
      "r2_score = -4.948152464723883\n"
     ]
    }
   ],
   "source": [
    "mse_a = metrics.mean_squared_error(y_test, a)\n",
    "mae_a = metrics.mean_absolute_error(y_test, a)\n",
    "r2_a = r2_score(y_test, a)\n",
    "\n",
    "print(\"mean_squared_error = \", mse_a)\n",
    "print(\"mean_absolute_error =\", mae_a)\n",
    "print(\"r2_score =\", r2_a)"
   ]
  },
  {
   "cell_type": "markdown",
   "metadata": {},
   "source": [
    "Получите значения цены на недвижимость, используя обучающую часть выборки и оцените качество модели"
   ]
  },
  {
   "cell_type": "code",
   "execution_count": 76,
   "metadata": {},
   "outputs": [
    {
     "name": "stdout",
     "output_type": "stream",
     "text": [
      "mean_squared_error =  9.633874020539102\n",
      "mean_absolute_error 2.403799080173058\n",
      "r2_score 0.8776267065594971\n"
     ]
    }
   ],
   "source": [
    "b = reg.predict(x_train)\n",
    "\n",
    "mse_b = metrics.mean_squared_error(y_train, b)\n",
    "mae_b = metrics.mean_absolute_error(y_train, b)\n",
    "r2_b = metrics.r2_score(y_train, b)\n",
    "\n",
    "print(\"mean_squared_error = \", mse_b)\n",
    "print(\"mean_absolute_error\", mae_b)\n",
    "print(\"r2_score\", r2_b)"
   ]
  },
  {
   "cell_type": "markdown",
   "metadata": {},
   "source": [
    "### Кросс-валидация"
   ]
  },
  {
   "cell_type": "markdown",
   "metadata": {},
   "source": [
    "Этот прием позволяет улучшить качество модели.\n",
    "Суть ее заключается в разделении выборки на равные части (фолды) и использовании 1 части в качестве тестовой , а остальных в качестве обучающей части выборки. Модель обучается столько раз, на сколько частей разбивается выборка.\n",
    "Но мы будем использовать просто случайным образом выбранные элементы."
   ]
  },
  {
   "cell_type": "markdown",
   "metadata": {},
   "source": [
    "<p>Для выборки случайных элементов из выборки используется функция <p/>\n",
    "**cross_validation.train_test_split(X, Y, test_size = 0.3,random_state = 1)**\n",
    "* X - параметры модели\n",
    "* Y - целевая переменная\n",
    "* test_size - размер тестовой выборки в долях\n",
    "\n",
    "<p>Возращает</p> \n",
    "* 1- обучающую часть X\n",
    "* 2- тестовую часть X\n",
    "* 3- обучающую часть Y\n",
    "* 4- тестовую часть Y\n"
   ]
  },
  {
   "cell_type": "markdown",
   "metadata": {},
   "source": [
    "## Задание 3"
   ]
  },
  {
   "cell_type": "markdown",
   "metadata": {},
   "source": [
    "Разбейте выборку по кросс валидации и обучите регрессор"
   ]
  },
  {
   "cell_type": "code",
   "execution_count": 78,
   "metadata": {},
   "outputs": [
    {
     "data": {
      "text/plain": [
       "array([[-9.32979504e-02,  3.11368143e-02, -1.81754255e-02,\n",
       "         3.19555762e+00, -1.51042926e+01,  3.50102142e+00,\n",
       "         1.89769212e-02, -1.26552555e+00,  3.22156319e-01,\n",
       "        -1.09456764e-02, -1.08963451e+00,  1.25396786e-02,\n",
       "        -6.07618971e-01]])"
      ]
     },
     "execution_count": 78,
     "metadata": {},
     "output_type": "execute_result"
    }
   ],
   "source": [
    "X_train, X_test, Y_train, Y_test = train_test_split(X, Y, test_size = 0.3,random_state = 2)\n",
    "reg2 = LinearRegression()\n",
    "reg2.fit(X_train, Y_train)\n",
    "reg2.coef_"
   ]
  },
  {
   "cell_type": "markdown",
   "metadata": {},
   "source": [
    "Оцените качество модели на тестовой части выборки"
   ]
  },
  {
   "cell_type": "code",
   "execution_count": 79,
   "metadata": {},
   "outputs": [
    {
     "name": "stdout",
     "output_type": "stream",
     "text": [
      "mean_squared_error =  23.038812866283735\n",
      "mean_absolute_error 3.3929547821818087\n",
      "r2_score 0.7330247212691907\n"
     ]
    }
   ],
   "source": [
    "c = reg2.predict(X_test)\n",
    "mse_c = metrics.mean_squared_error(Y_test, c)\n",
    "mae_c = metrics.mean_absolute_error(Y_test, c)\n",
    "r2_c = metrics.r2_score(Y_test, c)\n",
    "\n",
    "print(\"mean_squared_error = \", mse_c)\n",
    "print(\"mean_absolute_error\", mae_c)\n",
    "print(\"r2_score\", r2_c)"
   ]
  },
  {
   "cell_type": "markdown",
   "metadata": {},
   "source": [
    "Оцените качество модели на обучающей части выборки"
   ]
  },
  {
   "cell_type": "code",
   "execution_count": 80,
   "metadata": {},
   "outputs": [
    {
     "name": "stdout",
     "output_type": "stream",
     "text": [
      "mean_squared_error =  22.067765599180124\n",
      "mean_absolute_error 3.3630623701098497\n",
      "r2_score 0.7360587999246775\n"
     ]
    }
   ],
   "source": [
    "d = reg2.predict(X_train)\n",
    "mse_d = metrics.mean_squared_error(Y_train, d)\n",
    "mae_d = metrics.mean_absolute_error(Y_train, d)\n",
    "r2_d = metrics.r2_score(Y_train, d)\n",
    "\n",
    "print(\"mean_squared_error = \", mse_d)\n",
    "print(\"mean_absolute_error\", mae_d)\n",
    "print(\"r2_score\", r2_d)"
   ]
  },
  {
   "cell_type": "markdown",
   "metadata": {},
   "source": [
    "Сделайте выводы о переобучении или недообучении модели"
   ]
  },
  {
   "cell_type": "code",
   "execution_count": 51,
   "metadata": {},
   "outputs": [],
   "source": []
  },
  {
   "cell_type": "markdown",
   "metadata": {},
   "source": [
    "Получите веса модели и сохраните их в файл excel"
   ]
  },
  {
   "cell_type": "code",
   "execution_count": 88,
   "metadata": {},
   "outputs": [
    {
     "name": "stdout",
     "output_type": "stream",
     "text": [
      "          0         1         2         3          4         5         6  \\\n",
      "0 -0.093298  0.031137 -0.018175  3.195558 -15.104293  3.501021  0.018977   \n",
      "\n",
      "          7         8         9        10       11        12  \n",
      "0 -1.265526  0.322156 -0.010946 -1.089635  0.01254 -0.607619  \n"
     ]
    }
   ],
   "source": [
    "weights = pd.DataFrame(reg2.coef_)\n",
    "print(weights)"
   ]
  },
  {
   "cell_type": "code",
   "execution_count": 89,
   "metadata": {},
   "outputs": [],
   "source": [
    "weights.to_excel('Laba 3.xlsx')"
   ]
  },
  {
   "cell_type": "code",
   "execution_count": null,
   "metadata": {},
   "outputs": [],
   "source": []
  }
 ],
 "metadata": {
  "kernelspec": {
   "display_name": "Python 3",
   "language": "python",
   "name": "python3"
  },
  "language_info": {
   "codemirror_mode": {
    "name": "ipython",
    "version": 3
   },
   "file_extension": ".py",
   "mimetype": "text/x-python",
   "name": "python",
   "nbconvert_exporter": "python",
   "pygments_lexer": "ipython3",
   "version": "3.7.4"
  }
 },
 "nbformat": 4,
 "nbformat_minor": 2
}
